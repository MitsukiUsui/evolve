{
 "cells": [
  {
   "cell_type": "code",
   "execution_count": 1,
   "metadata": {
    "collapsed": true
   },
   "outputs": [],
   "source": [
    "from Bio.Blast import NCBIXML"
   ]
  },
  {
   "cell_type": "code",
   "execution_count": 11,
   "metadata": {
    "collapsed": true
   },
   "outputs": [],
   "source": [
    "filepath=\"../out/test_genus_872.xml\"\n",
    "f=open(filepath)\n",
    "blastRecords = NCBIXML.parse(f)"
   ]
  },
  {
   "cell_type": "code",
   "execution_count": 12,
   "metadata": {
    "collapsed": false
   },
   "outputs": [
    {
     "data": {
      "text/plain": [
       "<generator object parse at 0x7fffcfcc5d58>"
      ]
     },
     "execution_count": 12,
     "metadata": {},
     "output_type": "execute_result"
    }
   ],
   "source": [
    "blastRecords"
   ]
  },
  {
   "cell_type": "code",
   "execution_count": 13,
   "metadata": {
    "collapsed": false
   },
   "outputs": [
    {
     "name": "stdout",
     "output_type": "stream",
     "text": [
      "<Bio.Blast.Record.Blast object at 0x7fffcfd5b400>\n",
      "<Bio.Blast.Record.Blast object at 0x7fffcfd5b3c8>\n",
      "<Bio.Blast.Record.Blast object at 0x7fffcfcddf28>\n",
      "gnl|BL_ORD_ID|1 WP_006917733.1 hypothetical protein [Desulfovibrio magneticus]\n",
      "           Length = 95\n",
      "\n",
      "FARSLRAPGKPLEFPDYAEYVRLVAERAALDLD\n",
      "FARSLRAPGKPLEFPDYAEYVRLVAERAALDLD\n",
      "FARSLRAPGKPLEFPDYAEYVRLVAERAALDLD\n"
     ]
    }
   ],
   "source": [
    "for rec in blastRecords:\n",
    "    print(rec)\n",
    "    for alignment in rec.alignments:\n",
    "        print(alignment)\n",
    "        for hsp in alignment.hsps:\n",
    "            print(hsp.query)\n",
    "            print(hsp.match)\n",
    "            print(hsp.sbjct)"
   ]
  },
  {
   "cell_type": "code",
   "execution_count": 18,
   "metadata": {
    "collapsed": false
   },
   "outputs": [
    {
     "ename": "AttributeError",
     "evalue": "'HSP' object has no attribute 'match_num'",
     "output_type": "error",
     "traceback": [
      "\u001b[0;31m---------------------------------------------------------------------------\u001b[0m",
      "\u001b[0;31mAttributeError\u001b[0m                            Traceback (most recent call last)",
      "\u001b[0;32m<ipython-input-18-f4c4e40807aa>\u001b[0m in \u001b[0;36m<module>\u001b[0;34m()\u001b[0m\n\u001b[1;32m      2\u001b[0m \u001b[0mqresults\u001b[0m \u001b[0;34m=\u001b[0m \u001b[0mSearchIO\u001b[0m\u001b[0;34m.\u001b[0m\u001b[0mparse\u001b[0m\u001b[0;34m(\u001b[0m\u001b[0;34m'../out/test_genus_872.xml'\u001b[0m\u001b[0;34m,\u001b[0m \u001b[0;34m'blast-xml'\u001b[0m\u001b[0;34m)\u001b[0m     \u001b[0;31m# read XML file\u001b[0m\u001b[0;34m\u001b[0m\u001b[0m\n\u001b[1;32m      3\u001b[0m \u001b[0;31m#SearchIO.write(qresults, '../out/test_genus_872.tab', 'blast-tab')    # write to tabular file\u001b[0m\u001b[0;34m\u001b[0m\u001b[0;34m\u001b[0m\u001b[0m\n\u001b[0;32m----> 4\u001b[0;31m \u001b[0mSearchIO\u001b[0m\u001b[0;34m.\u001b[0m\u001b[0mwrite\u001b[0m\u001b[0;34m(\u001b[0m\u001b[0mqresults\u001b[0m\u001b[0;34m,\u001b[0m \u001b[0;34m'../out/test_genus_872.psl'\u001b[0m\u001b[0;34m,\u001b[0m \u001b[0;34m'blat-psl'\u001b[0m\u001b[0;34m)\u001b[0m\u001b[0;34m\u001b[0m\u001b[0m\n\u001b[0m",
      "\u001b[0;32m/home/mitsuki/.pyenv/versions/anaconda3-4.3.1/lib/python3.6/site-packages/Bio/SearchIO/__init__.py\u001b[0m in \u001b[0;36mwrite\u001b[0;34m(qresults, handle, format, **kwargs)\u001b[0m\n\u001b[1;32m    616\u001b[0m         \u001b[0;31m# count how many qresults, hits, and hsps\u001b[0m\u001b[0;34m\u001b[0m\u001b[0;34m\u001b[0m\u001b[0m\n\u001b[1;32m    617\u001b[0m         \u001b[0mqresult_count\u001b[0m\u001b[0;34m,\u001b[0m \u001b[0mhit_count\u001b[0m\u001b[0;34m,\u001b[0m \u001b[0mhsp_count\u001b[0m\u001b[0;34m,\u001b[0m \u001b[0mfrag_count\u001b[0m \u001b[0;34m=\u001b[0m\u001b[0;31m \u001b[0m\u001b[0;31m\\\u001b[0m\u001b[0;34m\u001b[0m\u001b[0m\n\u001b[0;32m--> 618\u001b[0;31m                 \u001b[0mwriter\u001b[0m\u001b[0;34m.\u001b[0m\u001b[0mwrite_file\u001b[0m\u001b[0;34m(\u001b[0m\u001b[0mqresults\u001b[0m\u001b[0;34m)\u001b[0m\u001b[0;34m\u001b[0m\u001b[0m\n\u001b[0m\u001b[1;32m    619\u001b[0m \u001b[0;34m\u001b[0m\u001b[0m\n\u001b[1;32m    620\u001b[0m     \u001b[0;32mreturn\u001b[0m \u001b[0mqresult_count\u001b[0m\u001b[0;34m,\u001b[0m \u001b[0mhit_count\u001b[0m\u001b[0;34m,\u001b[0m \u001b[0mhsp_count\u001b[0m\u001b[0;34m,\u001b[0m \u001b[0mfrag_count\u001b[0m\u001b[0;34m\u001b[0m\u001b[0m\n",
      "\u001b[0;32m/home/mitsuki/.pyenv/versions/anaconda3-4.3.1/lib/python3.6/site-packages/Bio/SearchIO/BlatIO.py\u001b[0m in \u001b[0;36mwrite_file\u001b[0;34m(self, qresults)\u001b[0m\n\u001b[1;32m    609\u001b[0m         \u001b[0;32mfor\u001b[0m \u001b[0mqresult\u001b[0m \u001b[0;32min\u001b[0m \u001b[0mqresults\u001b[0m\u001b[0;34m:\u001b[0m\u001b[0;34m\u001b[0m\u001b[0m\n\u001b[1;32m    610\u001b[0m             \u001b[0;32mif\u001b[0m \u001b[0mqresult\u001b[0m\u001b[0;34m:\u001b[0m\u001b[0;34m\u001b[0m\u001b[0m\n\u001b[0;32m--> 611\u001b[0;31m                 \u001b[0mhandle\u001b[0m\u001b[0;34m.\u001b[0m\u001b[0mwrite\u001b[0m\u001b[0;34m(\u001b[0m\u001b[0mself\u001b[0m\u001b[0;34m.\u001b[0m\u001b[0m_build_row\u001b[0m\u001b[0;34m(\u001b[0m\u001b[0mqresult\u001b[0m\u001b[0;34m)\u001b[0m\u001b[0;34m)\u001b[0m\u001b[0;34m\u001b[0m\u001b[0m\n\u001b[0m\u001b[1;32m    612\u001b[0m                 \u001b[0mqresult_counter\u001b[0m \u001b[0;34m+=\u001b[0m \u001b[0;36m1\u001b[0m\u001b[0;34m\u001b[0m\u001b[0m\n\u001b[1;32m    613\u001b[0m                 \u001b[0mhit_counter\u001b[0m \u001b[0;34m+=\u001b[0m \u001b[0mlen\u001b[0m\u001b[0;34m(\u001b[0m\u001b[0mqresult\u001b[0m\u001b[0;34m)\u001b[0m\u001b[0;34m\u001b[0m\u001b[0m\n",
      "\u001b[0;32m/home/mitsuki/.pyenv/versions/anaconda3-4.3.1/lib/python3.6/site-packages/Bio/SearchIO/BlatIO.py\u001b[0m in \u001b[0;36m_build_row\u001b[0;34m(self, qresult)\u001b[0m\n\u001b[1;32m    644\u001b[0m \u001b[0;34m\u001b[0m\u001b[0m\n\u001b[1;32m    645\u001b[0m                 \u001b[0mline\u001b[0m \u001b[0;34m=\u001b[0m \u001b[0;34m[\u001b[0m\u001b[0;34m]\u001b[0m\u001b[0;34m\u001b[0m\u001b[0m\n\u001b[0;32m--> 646\u001b[0;31m                 \u001b[0mline\u001b[0m\u001b[0;34m.\u001b[0m\u001b[0mappend\u001b[0m\u001b[0;34m(\u001b[0m\u001b[0mhsp\u001b[0m\u001b[0;34m.\u001b[0m\u001b[0mmatch_num\u001b[0m\u001b[0;34m)\u001b[0m\u001b[0;34m\u001b[0m\u001b[0m\n\u001b[0m\u001b[1;32m    647\u001b[0m                 \u001b[0mline\u001b[0m\u001b[0;34m.\u001b[0m\u001b[0mappend\u001b[0m\u001b[0;34m(\u001b[0m\u001b[0mhsp\u001b[0m\u001b[0;34m.\u001b[0m\u001b[0mmismatch_num\u001b[0m\u001b[0;34m)\u001b[0m\u001b[0;34m\u001b[0m\u001b[0m\n\u001b[1;32m    648\u001b[0m                 \u001b[0mline\u001b[0m\u001b[0;34m.\u001b[0m\u001b[0mappend\u001b[0m\u001b[0;34m(\u001b[0m\u001b[0mhsp\u001b[0m\u001b[0;34m.\u001b[0m\u001b[0mmatch_rep_num\u001b[0m\u001b[0;34m)\u001b[0m\u001b[0;34m\u001b[0m\u001b[0m\n",
      "\u001b[0;31mAttributeError\u001b[0m: 'HSP' object has no attribute 'match_num'"
     ]
    }
   ],
   "source": [
    "from Bio import SearchIO\n",
    "qresults = SearchIO.parse('../out/test_genus_872.xml', 'blast-xml')     # read XML file\n",
    "#SearchIO.write(qresults, '../out/test_genus_872.tab', 'blast-tab')    # write to tabular file\n",
    "SearchIO.write(qresults, '../out/test_genus_872.psl', 'blat-psl') "
   ]
  },
  {
   "cell_type": "code",
   "execution_count": 16,
   "metadata": {
    "collapsed": false
   },
   "outputs": [
    {
     "data": {
      "text/plain": [
       "(0, 0, 0, 0)"
      ]
     },
     "execution_count": 16,
     "metadata": {},
     "output_type": "execute_result"
    }
   ],
   "source": []
  },
  {
   "cell_type": "code",
   "execution_count": 17,
   "metadata": {
    "collapsed": false
   },
   "outputs": [
    {
     "data": {
      "text/plain": [
       "(0, 0, 0, 0)"
      ]
     },
     "execution_count": 17,
     "metadata": {},
     "output_type": "execute_result"
    }
   ],
   "source": [
    "SearchIO.write(qresults, '../out/test_genus_872.tab', 'blast-tab')"
   ]
  },
  {
   "cell_type": "code",
   "execution_count": null,
   "metadata": {
    "collapsed": true
   },
   "outputs": [],
   "source": []
  }
 ],
 "metadata": {
  "kernelspec": {
   "display_name": "Python 3",
   "language": "python",
   "name": "python3"
  },
  "language_info": {
   "codemirror_mode": {
    "name": "ipython",
    "version": 3
   },
   "file_extension": ".py",
   "mimetype": "text/x-python",
   "name": "python",
   "nbconvert_exporter": "python",
   "pygments_lexer": "ipython3",
   "version": "3.6.0"
  }
 },
 "nbformat": 4,
 "nbformat_minor": 2
}
