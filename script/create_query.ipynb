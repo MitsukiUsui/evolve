{
 "cells": [
  {
   "cell_type": "code",
   "execution_count": 1,
   "metadata": {
    "collapsed": true
   },
   "outputs": [],
   "source": [
    "import sys\n",
    "from Bio import SeqIO\n",
    "\n",
    "def is_typical(seq_record):\n",
    "\tif len(seq_record)>=6 and len(seq_record)%3==0:\n",
    "\t\treturn True\n",
    "\telse:\n",
    "\t\treturn False"
   ]
  },
  {
   "cell_type": "code",
   "execution_count": 2,
   "metadata": {
    "collapsed": true
   },
   "outputs": [],
   "source": [
    "def main(inFilepath, outFilepath):\n",
    "    with open(outFilepath,'w') as f:\n",
    "        totalCDS=0\n",
    "        processedCDS=0\n",
    "        for seq_record in SeqIO.parse(inFilepath, \"fasta\"):\n",
    "            totalCDS+=1\n",
    "            if is_typical(seq_record):\n",
    "                processedCDS+=1\n",
    "                target=[(\"frame2\",(1,len(seq_record)-2),False),\n",
    "                        (\"frame3\",(2,len(seq_record)-1),False),\n",
    "                        (\"frame4\",(0,len(seq_record)),  True),\n",
    "                        (\"frame5\",(1,len(seq_record)-2),True),\n",
    "                        (\"frame6\",(2,len(seq_record)-1),True)]\n",
    "\n",
    "                for name, (start,end), revComp in target:\n",
    "                    subSeq=seq_record.seq[start:end]\n",
    "                    if revComp:\n",
    "                        subSeq=subSeq.reverse_complement()\n",
    "                    product=subSeq.translate(table=11)\n",
    "                    for i,subPro in enumerate(product.split('*')):\n",
    "                        if len(subPro)>=10:\n",
    "                            header=\">{0}|{1}.{2}\".format(name,seq_record.id,i)\n",
    "                            f.write(header+'\\n')\n",
    "                            f.write(str(subPro)+'\\n')\n",
    "    print(\"\\tDONE: extraction from {0}/{1} CDSs\".format(processedCDS, totalCDS))"
   ]
  },
  {
   "cell_type": "code",
   "execution_count": 3,
   "metadata": {
    "collapsed": false
   },
   "outputs": [
    {
     "name": "stdout",
     "output_type": "stream",
     "text": [
      "\tDONE: extraction from 3164/3203 CDSs\n"
     ]
    }
   ],
   "source": [
    "inFilepath=\"GCF_000265365.1_ASM26536v1_cds_from_genomic.fna\"\n",
    "outFilepath=\"query.fna\"\n",
    "main(inFilepath,outFilepath)"
   ]
  },
  {
   "cell_type": "code",
   "execution_count": null,
   "metadata": {
    "collapsed": false
   },
   "outputs": [],
   "source": [
    "lengthDist=[[] for _ in range(5)]\n",
    "\n",
    "with open(outFilepath,'w') as f:\n",
    "    totalCDS=0\n",
    "    processedCDS=0\n",
    "    for seq_record in SeqIO.parse(inFilepath, \"fasta\"):\n",
    "        totalCDS+=1\n",
    "        if is_typical(seq_record):\n",
    "            processedCDS+=1\n",
    "            target=[(2,(1,len(seq_record)-2),False),\n",
    "                    (3,(2,len(seq_record)-1),False),\n",
    "                    (4,(0,len(seq_record)),  True),\n",
    "                    (5,(1,len(seq_record)-2),True),\n",
    "                    (6,(2,len(seq_record)-1),True)]\n",
    "\n",
    "            for frameNum, (start,end), revComp in target:\n",
    "                subSeq=seq_record.seq[start:end]\n",
    "                if revComp:\n",
    "                    subSeq=subSeq.reverse_complement()\n",
    "                product=subSeq.translate(table=11)\n",
    "                for i,subPro in enumerate(product.split('*')):\n",
    "                    lengthDist[frameNum-2].append(len(subPro))\n",
    "                        \n",
    "print(\"\\tDONE: extraction from {0}/{1} CDSs\".format(processedCDS, totalCDS))"
   ]
  },
  {
   "cell_type": "code",
   "execution_count": null,
   "metadata": {
    "collapsed": false,
    "scrolled": true
   },
   "outputs": [],
   "source": [
    "for dist_lst in lengthDist:\n",
    "    \n",
    "    print(len(dist_lst))"
   ]
  },
  {
   "cell_type": "code",
   "execution_count": null,
   "metadata": {
    "collapsed": true
   },
   "outputs": [],
   "source": [
    "import matplotlib.pyplot as plt\n",
    "import seaborn as sns\n",
    "%matplotlib inline"
   ]
  },
  {
   "cell_type": "code",
   "execution_count": null,
   "metadata": {
    "collapsed": false
   },
   "outputs": [],
   "source": [
    "for dist in lengthDist:\n",
    "    sns.distplot(dist, kde=False, bins =50)\n",
    "    plt.show()"
   ]
  },
  {
   "cell_type": "code",
   "execution_count": null,
   "metadata": {
    "collapsed": false
   },
   "outputs": [],
   "source": [
    "lengthDist[0].append(2)"
   ]
  },
  {
   "cell_type": "code",
   "execution_count": null,
   "metadata": {
    "collapsed": true
   },
   "outputs": [],
   "source": [
    "lengthDist"
   ]
  },
  {
   "cell_type": "code",
   "execution_count": null,
   "metadata": {
    "collapsed": true
   },
   "outputs": [],
   "source": []
  }
 ],
 "metadata": {
  "anaconda-cloud": {},
  "kernelspec": {
   "display_name": "Python 3",
   "language": "python",
   "name": "python3"
  },
  "language_info": {
   "codemirror_mode": {
    "name": "ipython",
    "version": 3
   },
   "file_extension": ".py",
   "mimetype": "text/x-python",
   "name": "python",
   "nbconvert_exporter": "python",
   "pygments_lexer": "ipython3",
   "version": "3.6.0"
  }
 },
 "nbformat": 4,
 "nbformat_minor": 1
}
