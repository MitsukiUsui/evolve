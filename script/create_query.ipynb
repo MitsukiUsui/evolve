{
 "cells": [
  {
   "cell_type": "code",
   "execution_count": 1,
   "metadata": {
    "collapsed": true
   },
   "outputs": [],
   "source": [
    "import sys\n",
    "import pandas as pd\n",
    "import random\n",
    "from Bio import SeqIO"
   ]
  },
  {
   "cell_type": "code",
   "execution_count": 12,
   "metadata": {
    "collapsed": false
   },
   "outputs": [],
   "source": [
    "def create_query(inFilepath, outFilepath, addDecoy=False):\n",
    "    def is_typical(seq_record):\n",
    "        if len(seq_record)>=6 and len(seq_record)%3==0:\n",
    "            return True\n",
    "        else:\n",
    "            return False\n",
    "\n",
    "    print(\"\\tIN  :{}\".format(inFilepath))\n",
    "    print(\"\\tOUT :{}\".format(outFilepath))\n",
    "\n",
    "    query_lst=[]\n",
    "    decoy_lst=[]\n",
    "    \n",
    "    totalCDS=0\n",
    "    processedCDS=0\n",
    "    for seq_record in SeqIO.parse(inFilepath, \"fasta\"):\n",
    "        totalCDS+=1\n",
    "        if is_typical(seq_record):\n",
    "            processedCDS+=1\n",
    "\n",
    "            target=[(2,(1,len(seq_record)-2),False),#Frame Number, (start, end), is reverse complement \n",
    "                    (3,(2,len(seq_record)-1),False),\n",
    "                    (4,(0,len(seq_record)),  True),\n",
    "                    (5,(1,len(seq_record)-2),True),\n",
    "                    (6,(2,len(seq_record)-1),True)]\n",
    "\n",
    "            for frameNum, (start,end), revComp in target:\n",
    "                seq=seq_record.seq[start:end]\n",
    "                if revComp:\n",
    "                    seq=seq.reverse_complement()\n",
    "                \n",
    "                queryHeader=\">F{0}|{1}\".format(frameNum,seq_record.description.strip())\n",
    "                querySeq=str(seq.translate(table=11)).replace('*','X')\n",
    "                query_lst.append((queryHeader,querySeq))\n",
    "                \n",
    "                if addDecoy:\n",
    "                    #decoy reverse\n",
    "                    drHeader=\">DRF{0}|{1}\".format(frameNum,seq_record.id.strip())\n",
    "                    drSeq=querySeq[::-1]\n",
    "                    decoy_lst.append((drHeader,drSeq))\n",
    "                   \n",
    "                    #decoy shuffle\n",
    "                    dsHeader=\">DSF{0}|{1}\".format(frameNum,seq_record.id.strip())\n",
    "                    dsSeq=''.join(random.sample(querySeq,len(querySeq)))\n",
    "                    decoy_lst.append((dsHeader,dsSeq))\n",
    "\n",
    "    #output\n",
    "    with open(outFilepath,'w') as f:\n",
    "        for header,seq in query_lst:\n",
    "            f.write(header+'\\n')\n",
    "            f.write(seq+'\\n')\n",
    "        if addDecoy:\n",
    "            for header,seq in decoy_lst:\n",
    "                f.write(header+'\\n')\n",
    "                f.write(seq+'\\n')\n",
    "        \n",
    "    \n",
    "    print(\"\\tDONE:extraction from {0}/{1} CDSs\".format(processedCDS, totalCDS))"
   ]
  },
  {
   "cell_type": "code",
   "execution_count": 4,
   "metadata": {
    "collapsed": false
   },
   "outputs": [
    {
     "name": "stdout",
     "output_type": "stream",
     "text": [
      "(10, 15)\n"
     ]
    },
    {
     "data": {
      "text/html": [
       "<div>\n",
       "<table border=\"1\" class=\"dataframe\">\n",
       "  <thead>\n",
       "    <tr style=\"text-align: right;\">\n",
       "      <th></th>\n",
       "      <th>taxid</th>\n",
       "      <th>kingdom</th>\n",
       "      <th>phylum</th>\n",
       "      <th>class</th>\n",
       "      <th>order</th>\n",
       "      <th>family</th>\n",
       "      <th>genus</th>\n",
       "      <th>species</th>\n",
       "      <th>count_real</th>\n",
       "      <th>count_sim</th>\n",
       "      <th>diff</th>\n",
       "      <th>ftp_basename</th>\n",
       "      <th>organism_name</th>\n",
       "      <th>genetic_code</th>\n",
       "      <th>G+C</th>\n",
       "    </tr>\n",
       "  </thead>\n",
       "  <tbody>\n",
       "    <tr>\n",
       "      <th>0</th>\n",
       "      <td>525146</td>\n",
       "      <td>-1</td>\n",
       "      <td>1224</td>\n",
       "      <td>28221</td>\n",
       "      <td>213115</td>\n",
       "      <td>194924</td>\n",
       "      <td>872</td>\n",
       "      <td>876</td>\n",
       "      <td>0.851789</td>\n",
       "      <td>0.777740</td>\n",
       "      <td>0.074048</td>\n",
       "      <td>GCF_000022125.1_ASM2212v1</td>\n",
       "      <td>Desulfovibrio desulfuricans subsp. desulfurica...</td>\n",
       "      <td>11</td>\n",
       "      <td>0.580722</td>\n",
       "    </tr>\n",
       "    <tr>\n",
       "      <th>1</th>\n",
       "      <td>883</td>\n",
       "      <td>-1</td>\n",
       "      <td>1224</td>\n",
       "      <td>28221</td>\n",
       "      <td>213115</td>\n",
       "      <td>194924</td>\n",
       "      <td>872</td>\n",
       "      <td>881</td>\n",
       "      <td>1.619893</td>\n",
       "      <td>1.407806</td>\n",
       "      <td>0.212088</td>\n",
       "      <td>GCF_000021385.1_ASM2138v1</td>\n",
       "      <td>Desulfovibrio vulgaris str. 'Miyazaki F'</td>\n",
       "      <td>11</td>\n",
       "      <td>0.671090</td>\n",
       "    </tr>\n",
       "    <tr>\n",
       "      <th>2</th>\n",
       "      <td>901</td>\n",
       "      <td>-1</td>\n",
       "      <td>1224</td>\n",
       "      <td>28221</td>\n",
       "      <td>213115</td>\n",
       "      <td>194924</td>\n",
       "      <td>872</td>\n",
       "      <td>901</td>\n",
       "      <td>1.387866</td>\n",
       "      <td>1.183206</td>\n",
       "      <td>0.204661</td>\n",
       "      <td>GCF_900116045.1_DESPIGER</td>\n",
       "      <td>Desulfovibrio piger</td>\n",
       "      <td>11</td>\n",
       "      <td>0.641799</td>\n",
       "    </tr>\n",
       "    <tr>\n",
       "      <th>3</th>\n",
       "      <td>526222</td>\n",
       "      <td>-1</td>\n",
       "      <td>1224</td>\n",
       "      <td>28221</td>\n",
       "      <td>213115</td>\n",
       "      <td>194924</td>\n",
       "      <td>872</td>\n",
       "      <td>880</td>\n",
       "      <td>0.594646</td>\n",
       "      <td>0.536652</td>\n",
       "      <td>0.057994</td>\n",
       "      <td>GCF_000023445.1_ASM2344v1</td>\n",
       "      <td>Desulfovibrio salexigens DSM 2638</td>\n",
       "      <td>11</td>\n",
       "      <td>0.470928</td>\n",
       "    </tr>\n",
       "    <tr>\n",
       "      <th>4</th>\n",
       "      <td>641491</td>\n",
       "      <td>-1</td>\n",
       "      <td>1224</td>\n",
       "      <td>28221</td>\n",
       "      <td>213115</td>\n",
       "      <td>194924</td>\n",
       "      <td>872</td>\n",
       "      <td>876</td>\n",
       "      <td>1.622397</td>\n",
       "      <td>1.369687</td>\n",
       "      <td>0.252709</td>\n",
       "      <td>GCF_000189295.2_ASM18929v2</td>\n",
       "      <td>Desulfovibrio desulfuricans ND132</td>\n",
       "      <td>11</td>\n",
       "      <td>0.652094</td>\n",
       "    </tr>\n",
       "  </tbody>\n",
       "</table>\n",
       "</div>"
      ],
      "text/plain": [
       "    taxid  kingdom  phylum  class   order  family  genus  species  count_real  \\\n",
       "0  525146       -1    1224  28221  213115  194924    872      876    0.851789   \n",
       "1     883       -1    1224  28221  213115  194924    872      881    1.619893   \n",
       "2     901       -1    1224  28221  213115  194924    872      901    1.387866   \n",
       "3  526222       -1    1224  28221  213115  194924    872      880    0.594646   \n",
       "4  641491       -1    1224  28221  213115  194924    872      876    1.622397   \n",
       "\n",
       "   count_sim      diff                ftp_basename  \\\n",
       "0   0.777740  0.074048   GCF_000022125.1_ASM2212v1   \n",
       "1   1.407806  0.212088   GCF_000021385.1_ASM2138v1   \n",
       "2   1.183206  0.204661    GCF_900116045.1_DESPIGER   \n",
       "3   0.536652  0.057994   GCF_000023445.1_ASM2344v1   \n",
       "4   1.369687  0.252709  GCF_000189295.2_ASM18929v2   \n",
       "\n",
       "                                       organism_name  genetic_code       G+C  \n",
       "0  Desulfovibrio desulfuricans subsp. desulfurica...            11  0.580722  \n",
       "1           Desulfovibrio vulgaris str. 'Miyazaki F'            11  0.671090  \n",
       "2                                Desulfovibrio piger            11  0.641799  \n",
       "3                  Desulfovibrio salexigens DSM 2638            11  0.470928  \n",
       "4                  Desulfovibrio desulfuricans ND132            11  0.652094  "
      ]
     },
     "execution_count": 4,
     "metadata": {},
     "output_type": "execute_result"
    }
   ],
   "source": [
    "targetFilepath=\"../out/target_genus.list\"\n",
    "target_df=pd.read_csv(targetFilepath)\n",
    "print(target_df.shape)\n",
    "target_df.head()"
   ]
  },
  {
   "cell_type": "code",
   "execution_count": 13,
   "metadata": {
    "collapsed": false
   },
   "outputs": [
    {
     "name": "stdout",
     "output_type": "stream",
     "text": [
      "\tIN  :/data/mitsuki/data/refseq/cds_from_genomic/GCF_000022125.1_ASM2212v1_cds_from_genomic.fna\n",
      "\tOUT :/data/mitsuki/out/altorf/evolve/query/GCF_000022125.1_ASM2212v1.query\n",
      "\tDONE:extraction from 2429/2444 CDSs\n"
     ]
    }
   ],
   "source": [
    "for basename in target_df[\"ftp_basename\"]:\n",
    "    inFilepath=\"/data/mitsuki/data/refseq/cds_from_genomic/{}_cds_from_genomic.fna\".format(basename)\n",
    "    outFilepath=\"/data/mitsuki/out/altorf/evolve/query/{}.query\".format(basename)\n",
    "    create_query(inFilepath, outFilepath, addDecoy=True)\n",
    "    break"
   ]
  },
  {
   "cell_type": "code",
   "execution_count": 7,
   "metadata": {
    "collapsed": false
   },
   "outputs": [
    {
     "name": "stdout",
     "output_type": "stream",
     "text": [
      "ID: lcl|NC_011883.1_cds_WP_012623653.1_1\n",
      "Name: lcl|NC_011883.1_cds_WP_012623653.1_1\n",
      "Description: lcl|NC_011883.1_cds_WP_012623653.1_1 [locus_tag=DDES_RS00005] [protein=hypothetical protein] [protein_id=WP_012623653.1] [location=complement(394..618)] [gbkey=CDS]\n",
      "Number of features: 0\n",
      "Seq('ATGATGTACTTTCAGCCACTTTCGGGCATTGCTCTGGTCGCCCAGAATACTCCG...TAA', SingleLetterAlphabet())\n"
     ]
    }
   ],
   "source": [
    "inFilepath=\"/data/mitsuki/data/refseq/cds_from_genomic/GCF_000022125.1_ASM2212v1_cds_from_genomic.fna\"\n",
    "for seq_record in SeqIO.parse(inFilepath, \"fasta\"):\n",
    "    print(seq_record)\n",
    "    break"
   ]
  },
  {
   "cell_type": "code",
   "execution_count": 10,
   "metadata": {
    "collapsed": false
   },
   "outputs": [
    {
     "data": {
      "text/plain": [
       "'lcl|NC_011883.1_cds_WP_012623653.1_1 [locus_tag=DDES_RS00005] [protein=hypothetical protein] [protein_id=WP_012623653.1] [location=complement(394..618)] [gbkey=CDS]'"
      ]
     },
     "execution_count": 10,
     "metadata": {},
     "output_type": "execute_result"
    }
   ],
   "source": [
    "seq_record.description"
   ]
  },
  {
   "cell_type": "code",
   "execution_count": null,
   "metadata": {
    "collapsed": true
   },
   "outputs": [],
   "source": []
  }
 ],
 "metadata": {
  "anaconda-cloud": {},
  "kernelspec": {
   "display_name": "Python 3",
   "language": "python",
   "name": "python3"
  },
  "language_info": {
   "codemirror_mode": {
    "name": "ipython",
    "version": 3
   },
   "file_extension": ".py",
   "mimetype": "text/x-python",
   "name": "python",
   "nbconvert_exporter": "python",
   "pygments_lexer": "ipython3",
   "version": "3.6.0"
  }
 },
 "nbformat": 4,
 "nbformat_minor": 1
}
