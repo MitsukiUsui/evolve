{
 "cells": [
  {
   "cell_type": "code",
   "execution_count": 6,
   "metadata": {
    "collapsed": true
   },
   "outputs": [],
   "source": [
    "from collections import Counter\n",
    "import sys\n",
    "import numpy as np\n",
    "from scipy import stats\n",
    "from Bio import SeqIO\n",
    "import Bio\n",
    "import pandas as pd\n",
    "import random"
   ]
  },
  {
   "cell_type": "code",
   "execution_count": 3,
   "metadata": {
    "collapsed": false
   },
   "outputs": [],
   "source": [
    "class AaCount():\n",
    "    def __init__(self):\n",
    "        self.aa_lst=[\"A\",\"R\",\"N\",\"D\",\"C\",\"E\",\"Q\",\"G\",\"H\",\"I\",\"L\",\"K\",\"M\",\"F\",\"P\",\"S\",\"T\",\"W\",\"Y\",\"V\"]\n",
    "        self.aaCount_dct={}\n",
    "        for aa in self.aa_lst:\n",
    "            self.aaCount_dct[aa]=0\n",
    "    \n",
    "    def update_count(self,aaSeq):\n",
    "        counter=Counter(aaSeq)\n",
    "        for k,v in counter.items():\n",
    "            if k in self.aa_lst:\n",
    "                self.aaCount_dct[k]+=v\n",
    "            elif k in [\"*\", \"X\"]:\n",
    "                pass\n",
    "            else:\n",
    "                print(k)\n",
    "                sys.exit(1)\n",
    "         \n",
    "    def kl(self, other):\n",
    "        a1=np.zeros(len(self.aa_lst))\n",
    "        a2=np.zeros(len(self.aa_lst))\n",
    "        for i,aa in enumerate(self.aa_lst):\n",
    "            a1[i]=self.aaCount_dct[aa]+1\n",
    "            a2[i]=other.aaCount_dct[aa]+1#to avoid 0 division\n",
    "        return stats.entropy(a1,a2)\n",
    "                \n",
    "    def _debug_show(self):\n",
    "        for k in self.aa_lst:\n",
    "            print(k, self.aaCount_dct[k])"
   ]
  },
  {
   "cell_type": "code",
   "execution_count": 4,
   "metadata": {
    "collapsed": true
   },
   "outputs": [],
   "source": [
    "def is_typical(seq_record):\n",
    "    if len(seq_record)>=6 and len(seq_record)%3==0:\n",
    "        return True\n",
    "    else:\n",
    "        return False"
   ]
  },
  {
   "cell_type": "code",
   "execution_count": 74,
   "metadata": {
    "collapsed": false
   },
   "outputs": [],
   "source": [
    "ac_lst=[AaCount() for _ in range(6)]\n",
    "filepath=\"/data/mitsuki/data/refseq/cds_from_genomic/GCF_000010665.1_ASM1066v1_cds_from_genomic.fna\"\n",
    "for seq_record in SeqIO.parse(filepath, \"fasta\"):\n",
    "    if is_typical(seq_record):\n",
    "        target=[(1,(0,len(seq_record)),   False),\n",
    "                (2,(1,len(seq_record)-2),False),#Frame Number, (start, end), is reverse complement \n",
    "                (3,(2,len(seq_record)-1),False),\n",
    "                (4,(0,len(seq_record)),  True),\n",
    "                (5,(1,len(seq_record)-2),True),\n",
    "                (6,(2,len(seq_record)-1),True)]\n",
    "\n",
    "        #shuflle\n",
    "        #seq_record.seq=Bio.Seq.Seq(''.join(random.sample(str(seq_record.seq),len(seq_record))))\n",
    "        \n",
    "        for frameNum, (start,end), revComp in target:\n",
    "            seq=seq_record.seq[start:end]\n",
    "            if revComp:\n",
    "                seq=seq.reverse_complement()\n",
    "            aaSeq=str(seq.translate(table=11)).replace('*','X')\n",
    "            ac_lst[frameNum-1].update_count(aaSeq)"
   ]
  },
  {
   "cell_type": "code",
   "execution_count": 7,
   "metadata": {
    "collapsed": false
   },
   "outputs": [
    {
     "data": {
      "text/html": [
       "<div>\n",
       "<table border=\"1\" class=\"dataframe\">\n",
       "  <thead>\n",
       "    <tr style=\"text-align: right;\">\n",
       "      <th></th>\n",
       "      <th>taxid</th>\n",
       "      <th>kingdom</th>\n",
       "      <th>phylum</th>\n",
       "      <th>class</th>\n",
       "      <th>order</th>\n",
       "      <th>family</th>\n",
       "      <th>genus</th>\n",
       "      <th>species</th>\n",
       "      <th>count_real</th>\n",
       "      <th>count_sim</th>\n",
       "      <th>diff</th>\n",
       "      <th>ftp_basename</th>\n",
       "      <th>organism_name</th>\n",
       "      <th>genetic_code</th>\n",
       "      <th>G+C</th>\n",
       "    </tr>\n",
       "  </thead>\n",
       "  <tbody>\n",
       "    <tr>\n",
       "      <th>0</th>\n",
       "      <td>525146</td>\n",
       "      <td>-1</td>\n",
       "      <td>1224</td>\n",
       "      <td>28221</td>\n",
       "      <td>213115</td>\n",
       "      <td>194924</td>\n",
       "      <td>872</td>\n",
       "      <td>876</td>\n",
       "      <td>0.851789</td>\n",
       "      <td>0.777740</td>\n",
       "      <td>0.074048</td>\n",
       "      <td>GCF_000022125.1_ASM2212v1</td>\n",
       "      <td>Desulfovibrio desulfuricans subsp. desulfurica...</td>\n",
       "      <td>11</td>\n",
       "      <td>0.580722</td>\n",
       "    </tr>\n",
       "    <tr>\n",
       "      <th>1</th>\n",
       "      <td>883</td>\n",
       "      <td>-1</td>\n",
       "      <td>1224</td>\n",
       "      <td>28221</td>\n",
       "      <td>213115</td>\n",
       "      <td>194924</td>\n",
       "      <td>872</td>\n",
       "      <td>881</td>\n",
       "      <td>1.619893</td>\n",
       "      <td>1.407806</td>\n",
       "      <td>0.212088</td>\n",
       "      <td>GCF_000021385.1_ASM2138v1</td>\n",
       "      <td>Desulfovibrio vulgaris str. 'Miyazaki F'</td>\n",
       "      <td>11</td>\n",
       "      <td>0.671090</td>\n",
       "    </tr>\n",
       "    <tr>\n",
       "      <th>2</th>\n",
       "      <td>901</td>\n",
       "      <td>-1</td>\n",
       "      <td>1224</td>\n",
       "      <td>28221</td>\n",
       "      <td>213115</td>\n",
       "      <td>194924</td>\n",
       "      <td>872</td>\n",
       "      <td>901</td>\n",
       "      <td>1.387866</td>\n",
       "      <td>1.183206</td>\n",
       "      <td>0.204661</td>\n",
       "      <td>GCF_900116045.1_DESPIGER</td>\n",
       "      <td>Desulfovibrio piger</td>\n",
       "      <td>11</td>\n",
       "      <td>0.641799</td>\n",
       "    </tr>\n",
       "    <tr>\n",
       "      <th>3</th>\n",
       "      <td>526222</td>\n",
       "      <td>-1</td>\n",
       "      <td>1224</td>\n",
       "      <td>28221</td>\n",
       "      <td>213115</td>\n",
       "      <td>194924</td>\n",
       "      <td>872</td>\n",
       "      <td>880</td>\n",
       "      <td>0.594646</td>\n",
       "      <td>0.536652</td>\n",
       "      <td>0.057994</td>\n",
       "      <td>GCF_000023445.1_ASM2344v1</td>\n",
       "      <td>Desulfovibrio salexigens DSM 2638</td>\n",
       "      <td>11</td>\n",
       "      <td>0.470928</td>\n",
       "    </tr>\n",
       "    <tr>\n",
       "      <th>4</th>\n",
       "      <td>641491</td>\n",
       "      <td>-1</td>\n",
       "      <td>1224</td>\n",
       "      <td>28221</td>\n",
       "      <td>213115</td>\n",
       "      <td>194924</td>\n",
       "      <td>872</td>\n",
       "      <td>876</td>\n",
       "      <td>1.622397</td>\n",
       "      <td>1.369687</td>\n",
       "      <td>0.252709</td>\n",
       "      <td>GCF_000189295.2_ASM18929v2</td>\n",
       "      <td>Desulfovibrio desulfuricans ND132</td>\n",
       "      <td>11</td>\n",
       "      <td>0.652094</td>\n",
       "    </tr>\n",
       "  </tbody>\n",
       "</table>\n",
       "</div>"
      ],
      "text/plain": [
       "    taxid  kingdom  phylum  class   order  family  genus  species  count_real  \\\n",
       "0  525146       -1    1224  28221  213115  194924    872      876    0.851789   \n",
       "1     883       -1    1224  28221  213115  194924    872      881    1.619893   \n",
       "2     901       -1    1224  28221  213115  194924    872      901    1.387866   \n",
       "3  526222       -1    1224  28221  213115  194924    872      880    0.594646   \n",
       "4  641491       -1    1224  28221  213115  194924    872      876    1.622397   \n",
       "\n",
       "   count_sim      diff                ftp_basename  \\\n",
       "0   0.777740  0.074048   GCF_000022125.1_ASM2212v1   \n",
       "1   1.407806  0.212088   GCF_000021385.1_ASM2138v1   \n",
       "2   1.183206  0.204661    GCF_900116045.1_DESPIGER   \n",
       "3   0.536652  0.057994   GCF_000023445.1_ASM2344v1   \n",
       "4   1.369687  0.252709  GCF_000189295.2_ASM18929v2   \n",
       "\n",
       "                                       organism_name  genetic_code       G+C  \n",
       "0  Desulfovibrio desulfuricans subsp. desulfurica...            11  0.580722  \n",
       "1           Desulfovibrio vulgaris str. 'Miyazaki F'            11  0.671090  \n",
       "2                                Desulfovibrio piger            11  0.641799  \n",
       "3                  Desulfovibrio salexigens DSM 2638            11  0.470928  \n",
       "4                  Desulfovibrio desulfuricans ND132            11  0.652094  "
      ]
     },
     "execution_count": 7,
     "metadata": {},
     "output_type": "execute_result"
    }
   ],
   "source": [
    "txtFilepath=\"../../createdatabase/out/genus_872.txt\"\n",
    "catalog_df=pd.read_csv(txtFilepath)\n",
    "catalog_df.head()"
   ]
  },
  {
   "cell_type": "code",
   "execution_count": 8,
   "metadata": {
    "collapsed": false
   },
   "outputs": [
    {
     "ename": "FileNotFoundError",
     "evalue": "[Errno 2] No such file or directory: '/data/mitsuki/data/refseq/cds_from_genomic/GCF_000022125.1_ASM2212v1_cds_from_genomic.fna'",
     "output_type": "error",
     "traceback": [
      "\u001b[0;31m---------------------------------------------------------------------------\u001b[0m",
      "\u001b[0;31mFileNotFoundError\u001b[0m                         Traceback (most recent call last)",
      "\u001b[0;32m<ipython-input-8-a1c725f79ba9>\u001b[0m in \u001b[0;36m<module>\u001b[0;34m()\u001b[0m\n\u001b[1;32m      2\u001b[0m     \u001b[0mac_lst\u001b[0m\u001b[0;34m=\u001b[0m\u001b[0;34m[\u001b[0m\u001b[0mAaCount\u001b[0m\u001b[0;34m(\u001b[0m\u001b[0;34m)\u001b[0m \u001b[0;32mfor\u001b[0m \u001b[0m_\u001b[0m \u001b[0;32min\u001b[0m \u001b[0mrange\u001b[0m\u001b[0;34m(\u001b[0m\u001b[0;36m6\u001b[0m\u001b[0;34m)\u001b[0m\u001b[0;34m]\u001b[0m\u001b[0;34m\u001b[0m\u001b[0m\n\u001b[1;32m      3\u001b[0m     \u001b[0mfilepath\u001b[0m\u001b[0;34m=\u001b[0m\u001b[0;34m\"/data/mitsuki/data/refseq/cds_from_genomic/{}_cds_from_genomic.fna\"\u001b[0m\u001b[0;34m.\u001b[0m\u001b[0mformat\u001b[0m\u001b[0;34m(\u001b[0m\u001b[0mbasename\u001b[0m\u001b[0;34m)\u001b[0m\u001b[0;34m\u001b[0m\u001b[0m\n\u001b[0;32m----> 4\u001b[0;31m     \u001b[0;32mfor\u001b[0m \u001b[0mseq_record\u001b[0m \u001b[0;32min\u001b[0m \u001b[0mSeqIO\u001b[0m\u001b[0;34m.\u001b[0m\u001b[0mparse\u001b[0m\u001b[0;34m(\u001b[0m\u001b[0mfilepath\u001b[0m\u001b[0;34m,\u001b[0m \u001b[0;34m\"fasta\"\u001b[0m\u001b[0;34m)\u001b[0m\u001b[0;34m:\u001b[0m\u001b[0;34m\u001b[0m\u001b[0m\n\u001b[0m\u001b[1;32m      5\u001b[0m         \u001b[0;32mif\u001b[0m \u001b[0mis_typical\u001b[0m\u001b[0;34m(\u001b[0m\u001b[0mseq_record\u001b[0m\u001b[0;34m)\u001b[0m\u001b[0;34m:\u001b[0m\u001b[0;34m\u001b[0m\u001b[0m\n\u001b[1;32m      6\u001b[0m             target=[(1,(0,len(seq_record)),   False),\n",
      "\u001b[0;32m/home/mitsuki/.pyenv/versions/anaconda3-4.3.1/lib/python3.6/site-packages/Bio/SeqIO/__init__.py\u001b[0m in \u001b[0;36mparse\u001b[0;34m(handle, format, alphabet)\u001b[0m\n\u001b[1;32m    588\u001b[0m         \u001b[0;32mraise\u001b[0m \u001b[0mValueError\u001b[0m\u001b[0;34m(\u001b[0m\u001b[0;34m\"Invalid alphabet, %r\"\u001b[0m \u001b[0;34m%\u001b[0m \u001b[0malphabet\u001b[0m\u001b[0;34m)\u001b[0m\u001b[0;34m\u001b[0m\u001b[0m\n\u001b[1;32m    589\u001b[0m \u001b[0;34m\u001b[0m\u001b[0m\n\u001b[0;32m--> 590\u001b[0;31m     \u001b[0;32mwith\u001b[0m \u001b[0mas_handle\u001b[0m\u001b[0;34m(\u001b[0m\u001b[0mhandle\u001b[0m\u001b[0;34m,\u001b[0m \u001b[0mmode\u001b[0m\u001b[0;34m)\u001b[0m \u001b[0;32mas\u001b[0m \u001b[0mfp\u001b[0m\u001b[0;34m:\u001b[0m\u001b[0;34m\u001b[0m\u001b[0m\n\u001b[0m\u001b[1;32m    591\u001b[0m         \u001b[0;31m# Map the file format to a sequence iterator:\u001b[0m\u001b[0;34m\u001b[0m\u001b[0;34m\u001b[0m\u001b[0m\n\u001b[1;32m    592\u001b[0m         \u001b[0;32mif\u001b[0m \u001b[0mformat\u001b[0m \u001b[0;32min\u001b[0m \u001b[0m_FormatToIterator\u001b[0m\u001b[0;34m:\u001b[0m\u001b[0;34m\u001b[0m\u001b[0m\n",
      "\u001b[0;32m/home/mitsuki/.pyenv/versions/anaconda3-4.3.1/lib/python3.6/contextlib.py\u001b[0m in \u001b[0;36m__enter__\u001b[0;34m(self)\u001b[0m\n\u001b[1;32m     80\u001b[0m     \u001b[0;32mdef\u001b[0m \u001b[0m__enter__\u001b[0m\u001b[0;34m(\u001b[0m\u001b[0mself\u001b[0m\u001b[0;34m)\u001b[0m\u001b[0;34m:\u001b[0m\u001b[0;34m\u001b[0m\u001b[0m\n\u001b[1;32m     81\u001b[0m         \u001b[0;32mtry\u001b[0m\u001b[0;34m:\u001b[0m\u001b[0;34m\u001b[0m\u001b[0m\n\u001b[0;32m---> 82\u001b[0;31m             \u001b[0;32mreturn\u001b[0m \u001b[0mnext\u001b[0m\u001b[0;34m(\u001b[0m\u001b[0mself\u001b[0m\u001b[0;34m.\u001b[0m\u001b[0mgen\u001b[0m\u001b[0;34m)\u001b[0m\u001b[0;34m\u001b[0m\u001b[0m\n\u001b[0m\u001b[1;32m     83\u001b[0m         \u001b[0;32mexcept\u001b[0m \u001b[0mStopIteration\u001b[0m\u001b[0;34m:\u001b[0m\u001b[0;34m\u001b[0m\u001b[0m\n\u001b[1;32m     84\u001b[0m             \u001b[0;32mraise\u001b[0m \u001b[0mRuntimeError\u001b[0m\u001b[0;34m(\u001b[0m\u001b[0;34m\"generator didn't yield\"\u001b[0m\u001b[0;34m)\u001b[0m \u001b[0;32mfrom\u001b[0m \u001b[0;32mNone\u001b[0m\u001b[0;34m\u001b[0m\u001b[0m\n",
      "\u001b[0;32m/home/mitsuki/.pyenv/versions/anaconda3-4.3.1/lib/python3.6/site-packages/Bio/File.py\u001b[0m in \u001b[0;36mas_handle\u001b[0;34m(handleish, mode, **kwargs)\u001b[0m\n\u001b[1;32m     86\u001b[0m                 \u001b[0;32myield\u001b[0m \u001b[0mfp\u001b[0m\u001b[0;34m\u001b[0m\u001b[0m\n\u001b[1;32m     87\u001b[0m         \u001b[0;32melse\u001b[0m\u001b[0;34m:\u001b[0m\u001b[0;34m\u001b[0m\u001b[0m\n\u001b[0;32m---> 88\u001b[0;31m             \u001b[0;32mwith\u001b[0m \u001b[0mopen\u001b[0m\u001b[0;34m(\u001b[0m\u001b[0mhandleish\u001b[0m\u001b[0;34m,\u001b[0m \u001b[0mmode\u001b[0m\u001b[0;34m,\u001b[0m \u001b[0;34m**\u001b[0m\u001b[0mkwargs\u001b[0m\u001b[0;34m)\u001b[0m \u001b[0;32mas\u001b[0m \u001b[0mfp\u001b[0m\u001b[0;34m:\u001b[0m\u001b[0;34m\u001b[0m\u001b[0m\n\u001b[0m\u001b[1;32m     89\u001b[0m                 \u001b[0;32myield\u001b[0m \u001b[0mfp\u001b[0m\u001b[0;34m\u001b[0m\u001b[0m\n\u001b[1;32m     90\u001b[0m     \u001b[0;32melse\u001b[0m\u001b[0;34m:\u001b[0m\u001b[0;34m\u001b[0m\u001b[0m\n",
      "\u001b[0;31mFileNotFoundError\u001b[0m: [Errno 2] No such file or directory: '/data/mitsuki/data/refseq/cds_from_genomic/GCF_000022125.1_ASM2212v1_cds_from_genomic.fna'"
     ]
    }
   ],
   "source": [
    "for basename in catalog_df[\"ftp_basename\"]:\n",
    "    ac_lst=[AaCount() for _ in range(6)]\n",
    "    filepath=\"/data/mitsuki/data/refseq/cds_from_genomic/{}_cds_from_genomic.fna\".format(basename)\n",
    "    for seq_record in SeqIO.parse(filepath, \"fasta\"):\n",
    "        if is_typical(seq_record):\n",
    "            target=[(1,(0,len(seq_record)),   False),\n",
    "                    (2,(1,len(seq_record)-2),False),#Frame Number, (start, end), is reverse complement \n",
    "                    (3,(2,len(seq_record)-1),False),\n",
    "                    (4,(0,len(seq_record)),  True),\n",
    "                    (5,(1,len(seq_record)-2),True),\n",
    "                    (6,(2,len(seq_record)-1),True)]\n",
    "\n",
    "            #shuflle\n",
    "            #seq_record.seq=Bio.Seq.Seq(''.join(random.sample(str(seq_record.seq),len(seq_record))))\n",
    "\n",
    "            for frameNum, (start,end), revComp in target:\n",
    "                seq=seq_record.seq[start:end]\n",
    "                if revComp:\n",
    "                    seq=seq.reverse_complement()\n",
    "                aaSeq=str(seq.translate(table=11)).replace('*','X')\n",
    "                ac_lst[frameNum-1].update_count(aaSeq)\n",
    "    \n",
    "    print(basename)\n",
    "    for frameNum in range(1,7):\n",
    "        print(\"Frame{0}: {1}\".format(frameNum, AaCount.kl(ac_lst[0], ac_lst[frameNum-1])))\n",
    "    print(\"\\n\\n\")"
   ]
  },
  {
   "cell_type": "code",
   "execution_count": 75,
   "metadata": {
    "collapsed": false
   },
   "outputs": [
    {
     "name": "stdout",
     "output_type": "stream",
     "text": [
      "Frame1: 0.0\n",
      "Frame2: 0.4936553789333777\n",
      "Frame3: 0.31546072982491935\n",
      "Frame4: 0.14404278226542183\n",
      "Frame5: 0.42528162213507475\n",
      "Frame6: 0.19723081858265545\n"
     ]
    }
   ],
   "source": [
    "for frameNum in range(1,7):\n",
    "    print(\"Frame{0}: {1}\".format(frameNum, AaCount.kl(ac_lst[0], ac_lst[frameNum-1])))"
   ]
  },
  {
   "cell_type": "code",
   "execution_count": 70,
   "metadata": {
    "collapsed": false
   },
   "outputs": [
    {
     "name": "stdout",
     "output_type": "stream",
     "text": [
      "A 154799\n",
      "R 200312\n",
      "N 25080\n",
      "D 42642\n",
      "C 43018\n",
      "E 45755\n",
      "Q 41573\n",
      "G 172590\n",
      "H 39611\n",
      "I 35281\n",
      "L 108322\n",
      "K 26251\n",
      "M 15596\n",
      "F 26575\n",
      "P 141491\n",
      "S 123494\n",
      "T 81390\n",
      "W 29297\n",
      "Y 25476\n",
      "V 88618\n"
     ]
    }
   ],
   "source": [
    "ac_lst[3]._debug_show()"
   ]
  },
  {
   "cell_type": "code",
   "execution_count": 73,
   "metadata": {
    "collapsed": false
   },
   "outputs": [
    {
     "name": "stdout",
     "output_type": "stream",
     "text": [
      "A 154026\n",
      "R 194440\n",
      "N 26875\n",
      "D 41537\n",
      "C 42135\n",
      "E 39632\n",
      "Q 43405\n",
      "G 140925\n",
      "H 45161\n",
      "I 36374\n",
      "L 113400\n",
      "K 26555\n",
      "M 14767\n",
      "F 26081\n",
      "P 172150\n",
      "S 130206\n",
      "T 88599\n",
      "W 25039\n",
      "Y 25922\n",
      "V 81668\n"
     ]
    }
   ],
   "source": [
    "ac_lst[0]._debug_show()"
   ]
  },
  {
   "cell_type": "code",
   "execution_count": null,
   "metadata": {
    "collapsed": false
   },
   "outputs": [],
   "source": [
    "ac1=AaCount()\n",
    "seq=\"LLGRALAREKRLANDHPLVEQFWDIYEYIT\"\n",
    "ac1.update_count(seq)"
   ]
  },
  {
   "cell_type": "code",
   "execution_count": null,
   "metadata": {
    "collapsed": true
   },
   "outputs": [],
   "source": [
    "ac2=AaCount()\n",
    "seq=\"ILARAETREQRLAHDHPIVEQFWESYHYLN\"\n",
    "ac2.update_count(seq)"
   ]
  },
  {
   "cell_type": "code",
   "execution_count": null,
   "metadata": {
    "collapsed": false
   },
   "outputs": [],
   "source": [
    "AaCount.kl(ac1,ac2)"
   ]
  },
  {
   "cell_type": "code",
   "execution_count": null,
   "metadata": {
    "collapsed": false
   },
   "outputs": [],
   "source": [
    "s=\"ATGCA\"\n",
    "counter=Counter(s)\n",
    "counter\n",
    "for k,v in counter.items():\n",
    "    print(k,v)"
   ]
  },
  {
   "cell_type": "code",
   "execution_count": null,
   "metadata": {
    "collapsed": false
   },
   "outputs": [],
   "source": [
    "counter.items()"
   ]
  },
  {
   "cell_type": "code",
   "execution_count": null,
   "metadata": {
    "collapsed": true
   },
   "outputs": [],
   "source": []
  }
 ],
 "metadata": {
  "kernelspec": {
   "display_name": "Python 3",
   "language": "python",
   "name": "python3"
  },
  "language_info": {
   "codemirror_mode": {
    "name": "ipython",
    "version": 3
   },
   "file_extension": ".py",
   "mimetype": "text/x-python",
   "name": "python",
   "nbconvert_exporter": "python",
   "pygments_lexer": "ipython3",
   "version": "3.6.0"
  }
 },
 "nbformat": 4,
 "nbformat_minor": 2
}
