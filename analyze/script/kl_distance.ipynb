{
 "cells": [
  {
   "cell_type": "code",
   "execution_count": 57,
   "metadata": {
    "collapsed": true
   },
   "outputs": [],
   "source": [
    "from collections import Counter\n",
    "import sys\n",
    "import numpy as np\n",
    "from scipy import stats\n",
    "from Bio import SeqIO\n",
    "import Bio\n",
    "\n",
    "import random"
   ]
  },
  {
   "cell_type": "code",
   "execution_count": 2,
   "metadata": {
    "collapsed": false
   },
   "outputs": [],
   "source": [
    "class AaCount():\n",
    "    def __init__(self):\n",
    "        self.aa_lst=[\"A\",\"R\",\"N\",\"D\",\"C\",\"E\",\"Q\",\"G\",\"H\",\"I\",\"L\",\"K\",\"M\",\"F\",\"P\",\"S\",\"T\",\"W\",\"Y\",\"V\"]\n",
    "        self.aaCount_dct={}\n",
    "        for aa in self.aa_lst:\n",
    "            self.aaCount_dct[aa]=0\n",
    "    \n",
    "    def update_count(self,aaSeq):\n",
    "        counter=Counter(aaSeq)\n",
    "        for k,v in counter.items():\n",
    "            if k in self.aa_lst:\n",
    "                self.aaCount_dct[k]+=v\n",
    "            elif k in [\"*\", \"X\"]:\n",
    "                pass\n",
    "            else:\n",
    "                print(k)\n",
    "                sys.exit(1)\n",
    "         \n",
    "    def kl(self, other):\n",
    "        a1=np.zeros(len(self.aa_lst))\n",
    "        a2=np.zeros(len(self.aa_lst))\n",
    "        for i,aa in enumerate(self.aa_lst):\n",
    "            a1[i]=self.aaCount_dct[aa]+1\n",
    "            a2[i]=other.aaCount_dct[aa]+1#to avoid 0 division\n",
    "        return stats.entropy(a1,a2)\n",
    "                \n",
    "    def _debug_show(self):\n",
    "        for k in self.aa_lst:\n",
    "            print(k, self.aaCount_dct[k])"
   ]
  },
  {
   "cell_type": "code",
   "execution_count": 4,
   "metadata": {
    "collapsed": true
   },
   "outputs": [],
   "source": [
    "def is_typical(seq_record):\n",
    "    if len(seq_record)>=6 and len(seq_record)%3==0:\n",
    "        return True\n",
    "    else:\n",
    "        return False"
   ]
  },
  {
   "cell_type": "code",
   "execution_count": 74,
   "metadata": {
    "collapsed": false
   },
   "outputs": [],
   "source": [
    "ac_lst=[AaCount() for _ in range(6)]\n",
    "filepath=\"/data/mitsuki/data/refseq/cds_from_genomic/GCF_000010665.1_ASM1066v1_cds_from_genomic.fna\"\n",
    "for seq_record in SeqIO.parse(filepath, \"fasta\"):\n",
    "    if is_typical(seq_record):\n",
    "        target=[(1,(0,len(seq_record)),   False),\n",
    "                (2,(1,len(seq_record)-2),False),#Frame Number, (start, end), is reverse complement \n",
    "                (3,(2,len(seq_record)-1),False),\n",
    "                (4,(0,len(seq_record)),  True),\n",
    "                (5,(1,len(seq_record)-2),True),\n",
    "                (6,(2,len(seq_record)-1),True)]\n",
    "\n",
    "        #shuflle\n",
    "        #seq_record.seq=Bio.Seq.Seq(''.join(random.sample(str(seq_record.seq),len(seq_record))))\n",
    "        \n",
    "        for frameNum, (start,end), revComp in target:\n",
    "            seq=seq_record.seq[start:end]\n",
    "            if revComp:\n",
    "                seq=seq.reverse_complement()\n",
    "            aaSeq=str(seq.translate(table=11)).replace('*','X')\n",
    "            ac_lst[frameNum-1].update_count(aaSeq)"
   ]
  },
  {
   "cell_type": "code",
   "execution_count": 75,
   "metadata": {
    "collapsed": false
   },
   "outputs": [
    {
     "name": "stdout",
     "output_type": "stream",
     "text": [
      "Frame1: 0.0\n",
      "Frame2: 0.4936553789333777\n",
      "Frame3: 0.31546072982491935\n",
      "Frame4: 0.14404278226542183\n",
      "Frame5: 0.42528162213507475\n",
      "Frame6: 0.19723081858265545\n"
     ]
    }
   ],
   "source": [
    "for frameNum in range(1,7):\n",
    "    print(\"Frame{0}: {1}\".format(frameNum, AaCount.kl(ac_lst[0], ac_lst[frameNum-1])))"
   ]
  },
  {
   "cell_type": "code",
   "execution_count": 70,
   "metadata": {
    "collapsed": false
   },
   "outputs": [
    {
     "name": "stdout",
     "output_type": "stream",
     "text": [
      "A 154799\n",
      "R 200312\n",
      "N 25080\n",
      "D 42642\n",
      "C 43018\n",
      "E 45755\n",
      "Q 41573\n",
      "G 172590\n",
      "H 39611\n",
      "I 35281\n",
      "L 108322\n",
      "K 26251\n",
      "M 15596\n",
      "F 26575\n",
      "P 141491\n",
      "S 123494\n",
      "T 81390\n",
      "W 29297\n",
      "Y 25476\n",
      "V 88618\n"
     ]
    }
   ],
   "source": [
    "ac_lst[3]._debug_show()"
   ]
  },
  {
   "cell_type": "code",
   "execution_count": 73,
   "metadata": {
    "collapsed": false
   },
   "outputs": [
    {
     "name": "stdout",
     "output_type": "stream",
     "text": [
      "A 154026\n",
      "R 194440\n",
      "N 26875\n",
      "D 41537\n",
      "C 42135\n",
      "E 39632\n",
      "Q 43405\n",
      "G 140925\n",
      "H 45161\n",
      "I 36374\n",
      "L 113400\n",
      "K 26555\n",
      "M 14767\n",
      "F 26081\n",
      "P 172150\n",
      "S 130206\n",
      "T 88599\n",
      "W 25039\n",
      "Y 25922\n",
      "V 81668\n"
     ]
    }
   ],
   "source": [
    "ac_lst[0]._debug_show()"
   ]
  },
  {
   "cell_type": "code",
   "execution_count": null,
   "metadata": {
    "collapsed": false
   },
   "outputs": [],
   "source": [
    "ac1=AaCount()\n",
    "seq=\"LLGRALAREKRLANDHPLVEQFWDIYEYIT\"\n",
    "ac1.update_count(seq)"
   ]
  },
  {
   "cell_type": "code",
   "execution_count": null,
   "metadata": {
    "collapsed": true
   },
   "outputs": [],
   "source": [
    "ac2=AaCount()\n",
    "seq=\"ILARAETREQRLAHDHPIVEQFWESYHYLN\"\n",
    "ac2.update_count(seq)"
   ]
  },
  {
   "cell_type": "code",
   "execution_count": null,
   "metadata": {
    "collapsed": false
   },
   "outputs": [],
   "source": [
    "AaCount.kl(ac1,ac2)"
   ]
  },
  {
   "cell_type": "code",
   "execution_count": null,
   "metadata": {
    "collapsed": false
   },
   "outputs": [],
   "source": [
    "s=\"ATGCA\"\n",
    "counter=Counter(s)\n",
    "counter\n",
    "for k,v in counter.items():\n",
    "    print(k,v)"
   ]
  },
  {
   "cell_type": "code",
   "execution_count": null,
   "metadata": {
    "collapsed": false
   },
   "outputs": [],
   "source": [
    "counter.items()"
   ]
  },
  {
   "cell_type": "code",
   "execution_count": null,
   "metadata": {
    "collapsed": true
   },
   "outputs": [],
   "source": []
  }
 ],
 "metadata": {
  "kernelspec": {
   "display_name": "Python 3",
   "language": "python",
   "name": "python3"
  },
  "language_info": {
   "codemirror_mode": {
    "name": "ipython",
    "version": 3
   },
   "file_extension": ".py",
   "mimetype": "text/x-python",
   "name": "python",
   "nbconvert_exporter": "python",
   "pygments_lexer": "ipython3",
   "version": "3.6.0"
  }
 },
 "nbformat": 4,
 "nbformat_minor": 2
}
