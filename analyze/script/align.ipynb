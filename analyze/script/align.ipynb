{
 "cells": [
  {
   "cell_type": "code",
   "execution_count": 1,
   "metadata": {
    "collapsed": true
   },
   "outputs": [],
   "source": [
    "from Bio import AlignIO"
   ]
  },
  {
   "cell_type": "code",
   "execution_count": 2,
   "metadata": {
    "collapsed": true
   },
   "outputs": [],
   "source": [
    "filepath=\"/home/mitsuki/altorf/evolve/execute/test/genus_872.m8\""
   ]
  },
  {
   "cell_type": "code",
   "execution_count": 7,
   "metadata": {
    "collapsed": true
   },
   "outputs": [],
   "source": [
    "with open(filepath, 'r') as f:\n",
    "    header=f.readline().strip()\n",
    "    ali1=f.readline().strip()\n",
    "    ali2=f.readline().strip()"
   ]
  },
  {
   "cell_type": "code",
   "execution_count": 8,
   "metadata": {
    "collapsed": false
   },
   "outputs": [
    {
     "data": {
      "text/plain": [
       "'>F2|lcl|NC_012796.1_cds_WP_043600043.1_804\\tWP_083808607.1\\t0.438\\t48\\t26\\t2\\t89\\t137\\t4\\t49\\t4.59E-01\\t33'"
      ]
     },
     "execution_count": 8,
     "metadata": {},
     "output_type": "execute_result"
    }
   ],
   "source": [
    "header"
   ]
  },
  {
   "cell_type": "code",
   "execution_count": 9,
   "metadata": {
    "collapsed": false
   },
   "outputs": [
    {
     "data": {
      "text/plain": [
       "'WPRPGTGRSPAPWPKPPPWCRNSRTPCFAIRAASRSSKTSPSRPCSPAA'"
      ]
     },
     "execution_count": 9,
     "metadata": {},
     "output_type": "execute_result"
    }
   ],
   "source": [
    "ali1"
   ]
  },
  {
   "cell_type": "code",
   "execution_count": 10,
   "metadata": {
    "collapsed": false
   },
   "outputs": [
    {
     "data": {
      "text/plain": [
       "'WPGPRGART-RPWPRRPPGCRNSRP--GNRPPTSWPTPTTPPTPCAPSA'"
      ]
     },
     "execution_count": 10,
     "metadata": {},
     "output_type": "execute_result"
    }
   ],
   "source": [
    "ali2"
   ]
  },
  {
   "cell_type": "code",
   "execution_count": 12,
   "metadata": {
    "collapsed": false
   },
   "outputs": [],
   "source": [
    "con=\"\"\n",
    "assert len(ali1)==len(ali2)\n",
    "for i in range(len(ali1)):\n",
    "    if ali1[i]==ali2[i]:\n",
    "        con+=ali1[i]\n",
    "    else:\n",
    "        con+='-'"
   ]
  },
  {
   "cell_type": "code",
   "execution_count": 13,
   "metadata": {
    "collapsed": false
   },
   "outputs": [
    {
     "data": {
      "text/plain": [
       "'WP-P---R---PWP--PP-CRNSR---------S----T-P--PC-P-A'"
      ]
     },
     "execution_count": 13,
     "metadata": {},
     "output_type": "execute_result"
    }
   ],
   "source": [
    "con"
   ]
  },
  {
   "cell_type": "code",
   "execution_count": 14,
   "metadata": {
    "collapsed": false
   },
   "outputs": [
    {
     "name": "stdout",
     "output_type": "stream",
     "text": [
      "WPRPGTGRSPAPWPKPPPWCRNSRTPCFAIRAASRSSKTSPSRPCSPAA\n",
      "WP-P---R---PWP--PP-CRNSR---------S----T-P--PC-P-A\n",
      "WPGPRGART-RPWPRRPPGCRNSRP--GNRPPTSWPTPTTPPTPCAPSA\n"
     ]
    }
   ],
   "source": [
    "print(ali1)\n",
    "print(con)\n",
    "print(ali2)"
   ]
  },
  {
   "cell_type": "code",
   "execution_count": null,
   "metadata": {
    "collapsed": true
   },
   "outputs": [],
   "source": []
  }
 ],
 "metadata": {
  "kernelspec": {
   "display_name": "Python 3",
   "language": "python",
   "name": "python3"
  },
  "language_info": {
   "codemirror_mode": {
    "name": "ipython",
    "version": 3
   },
   "file_extension": ".py",
   "mimetype": "text/x-python",
   "name": "python",
   "nbconvert_exporter": "python",
   "pygments_lexer": "ipython3",
   "version": "3.6.0"
  }
 },
 "nbformat": 4,
 "nbformat_minor": 2
}
