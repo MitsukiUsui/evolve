{
 "cells": [
  {
   "cell_type": "code",
   "execution_count": 2,
   "metadata": {
    "collapsed": true
   },
   "outputs": [],
   "source": [
    "import pandas as pd\n",
    "from collections import Counter\n",
    "from Bio.Blast import NCBIXML\n",
    "import pandas as pd"
   ]
  },
  {
   "cell_type": "code",
   "execution_count": 3,
   "metadata": {
    "collapsed": true
   },
   "outputs": [],
   "source": [
    "def xml2df(filepath):\n",
    "    \"\"\"convert BLAST xml output to pd.Dataframe.\"\"\"\n",
    "    \n",
    "    dct_lst=[]\n",
    "    #resultFilepath=\"/data/mitsuki/out/altorf/evolve/result/GCF_000010665.1_ASM1066v1.xml\"\n",
    "    with open(filepath) as f:\n",
    "        blastRecords = NCBIXML.parse(f)\n",
    "        for rec in blastRecords:\n",
    "            queryName=rec.query\n",
    "            category=queryName.split('|')[0]\n",
    "            queryLength=rec.query_length\n",
    "            for alignment in rec.alignments:\n",
    "                sbjctName=alignment.title\n",
    "                sbjctLength=alignment.length\n",
    "                for hsp in alignment.hsps:\n",
    "                    dct={}\n",
    "                    dct[\"category\"]=category\n",
    "                    dct[\"query_name\"]=queryName\n",
    "                    dct[\"sbjct_name\"]=sbjctName\n",
    "                    dct[\"evalue\"]=hsp.expect\n",
    "                    dct[\"query_length\"]=queryLength\n",
    "                    dct[\"sbjct_length\"]=sbjctLength\n",
    "                    dct[\"query_start\"]=hsp.query_start\n",
    "                    dct[\"quer_end\"]=hsp.query_end\n",
    "                    dct[\"sbjct_start\"]=hsp.sbjct_start\n",
    "                    dct[\"sbjct_end\"]=hsp.sbjct_end\n",
    "                    dct_lst.append(dct)\n",
    "                    \n",
    "    result_df=pd.DataFrame(dct_lst)\n",
    "    result_df=result_df[[\"category\",\"query_name\",\"sbjct_name\",\"evalue\"]]\n",
    "    return result_df"
   ]
  },
  {
   "cell_type": "code",
   "execution_count": 4,
   "metadata": {
    "collapsed": true
   },
   "outputs": [],
   "source": [
    "def categorize_result(result_df):\n",
    "    \"\"\"convert BLAST xml output to pd.Dataframe.\"\"\"\n",
    "    thres_lst=[1,0.1,0.01,1e-3,1e-4,1e-5]\n",
    "    dct_lst=[]\n",
    "    for thres in thres_lst:\n",
    "        dct={}\n",
    "        dct[\"thres\"]=thres\n",
    "        filtered_df=result_df[result_df[\"evalue\"]<thres]\n",
    "        #filtered_df=filtered_df.drop_duplicates(subset=['qseqid'])\n",
    "        dct.update(Counter(filtered_df[\"category\"]))\n",
    "        dct_lst.append(dct)\n",
    "    count_df=pd.DataFrame(dct_lst)\n",
    "    \n",
    "    count_df=count_df.fillna(0)\n",
    "    name_lst=[]\n",
    "    for prefix in [\"F\",\"DSF\",\"DTSF\"]:\n",
    "        for i in range(2,7):\n",
    "            name=prefix+str(i)\n",
    "            name_lst.append(name)\n",
    "    count_df[name_lst]=count_df[name_lst].astype(int)\n",
    "    count_df=count_df[[\"thres\"]+name_lst]\n",
    "    \n",
    "    return count_df"
   ]
  },
  {
   "cell_type": "code",
   "execution_count": 5,
   "metadata": {
    "collapsed": false
   },
   "outputs": [
    {
     "name": "stdout",
     "output_type": "stream",
     "text": [
      "(22020, 4)\n"
     ]
    },
    {
     "data": {
      "text/html": [
       "<div>\n",
       "<table border=\"1\" class=\"dataframe\">\n",
       "  <thead>\n",
       "    <tr style=\"text-align: right;\">\n",
       "      <th></th>\n",
       "      <th>category</th>\n",
       "      <th>query_name</th>\n",
       "      <th>sbjct_name</th>\n",
       "      <th>evalue</th>\n",
       "    </tr>\n",
       "  </thead>\n",
       "  <tbody>\n",
       "    <tr>\n",
       "      <th>0</th>\n",
       "      <td>F3</td>\n",
       "      <td>F3|lcl|NC_012796.1_cds_WP_012749588.1_3 [locus...</td>\n",
       "      <td>gnl|BL_ORD_ID|107033 WP_015850381.1 HAD family...</td>\n",
       "      <td>0.311454</td>\n",
       "    </tr>\n",
       "    <tr>\n",
       "      <th>1</th>\n",
       "      <td>F3</td>\n",
       "      <td>F3|lcl|NC_012796.1_cds_WP_012749588.1_3 [locus...</td>\n",
       "      <td>gnl|BL_ORD_ID|74140 WP_015850381.1 HAD family ...</td>\n",
       "      <td>0.311454</td>\n",
       "    </tr>\n",
       "    <tr>\n",
       "      <th>2</th>\n",
       "      <td>F3</td>\n",
       "      <td>F3|lcl|NC_012796.1_cds_WP_012749588.1_3 [locus...</td>\n",
       "      <td>gnl|BL_ORD_ID|41247 WP_015850381.1 HAD family ...</td>\n",
       "      <td>0.311454</td>\n",
       "    </tr>\n",
       "    <tr>\n",
       "      <th>3</th>\n",
       "      <td>F3</td>\n",
       "      <td>F3|lcl|NC_012796.1_cds_WP_012749588.1_3 [locus...</td>\n",
       "      <td>gnl|BL_ORD_ID|8354 WP_015850381.1 HAD family h...</td>\n",
       "      <td>0.311454</td>\n",
       "    </tr>\n",
       "    <tr>\n",
       "      <th>4</th>\n",
       "      <td>F3</td>\n",
       "      <td>F3|lcl|NC_012796.1_cds_WP_012749591.1_6 [locus...</td>\n",
       "      <td>gnl|BL_ORD_ID|102401 WP_012612578.1 MULTISPECI...</td>\n",
       "      <td>0.093111</td>\n",
       "    </tr>\n",
       "  </tbody>\n",
       "</table>\n",
       "</div>"
      ],
      "text/plain": [
       "  category                                         query_name  \\\n",
       "0       F3  F3|lcl|NC_012796.1_cds_WP_012749588.1_3 [locus...   \n",
       "1       F3  F3|lcl|NC_012796.1_cds_WP_012749588.1_3 [locus...   \n",
       "2       F3  F3|lcl|NC_012796.1_cds_WP_012749588.1_3 [locus...   \n",
       "3       F3  F3|lcl|NC_012796.1_cds_WP_012749588.1_3 [locus...   \n",
       "4       F3  F3|lcl|NC_012796.1_cds_WP_012749591.1_6 [locus...   \n",
       "\n",
       "                                          sbjct_name    evalue  \n",
       "0  gnl|BL_ORD_ID|107033 WP_015850381.1 HAD family...  0.311454  \n",
       "1  gnl|BL_ORD_ID|74140 WP_015850381.1 HAD family ...  0.311454  \n",
       "2  gnl|BL_ORD_ID|41247 WP_015850381.1 HAD family ...  0.311454  \n",
       "3  gnl|BL_ORD_ID|8354 WP_015850381.1 HAD family h...  0.311454  \n",
       "4  gnl|BL_ORD_ID|102401 WP_012612578.1 MULTISPECI...  0.093111  "
      ]
     },
     "execution_count": 5,
     "metadata": {},
     "output_type": "execute_result"
    }
   ],
   "source": [
    "resultFilepath=\"/data/mitsuki/out/altorf/evolve/result/GCF_000010665.1_ASM1066v1.xml\"\n",
    "result_df=xml2df(resultFilepath)\n",
    "print(result_df.shape)\n",
    "result_df.head()"
   ]
  },
  {
   "cell_type": "code",
   "execution_count": 24,
   "metadata": {
    "collapsed": false
   },
   "outputs": [
    {
     "name": "stdout",
     "output_type": "stream",
     "text": [
      "gnl|BL_ORD_ID|107033 WP_015850381.1 HAD family hydrolase [Desulfovibrio salexigens]\n",
      "HPGHGRRGERGEGSRKPGSPALPQDRHHDRRRRGRGAHPHPAFDLFLPALRKAHFKRLRLH-RPAAAVPRVQRRFRAFHQGRRGIVPVSHGPH\n",
      "HP    R   G+G++K     LP+D+ +              +D F+P L K   + L  H RP A +P V   F A   G++ I  +S+ PH\n",
      "HPVDAYRKFVGDGAKKLAWRVLPEDKQNQED-----------YDQFVPVLLKKFEEELNKHVRPYAGIPEVLADFIA--AGKK-IAILSNKPH\n",
      "\n",
      "gnl|BL_ORD_ID|74140 WP_015850381.1 HAD family hydrolase [Desulfovibrio salexigens]\n",
      "HPGHGRRGERGEGSRKPGSPALPQDRHHDRRRRGRGAHPHPAFDLFLPALRKAHFKRLRLH-RPAAAVPRVQRRFRAFHQGRRGIVPVSHGPH\n",
      "HP    R   G+G++K     LP+D+ +              +D F+P L K   + L  H RP A +P V   F A   G++ I  +S+ PH\n",
      "HPVDAYRKFVGDGAKKLAWRVLPEDKQNQED-----------YDQFVPVLLKKFEEELNKHVRPYAGIPEVLADFIA--AGKK-IAILSNKPH\n",
      "\n",
      "gnl|BL_ORD_ID|41247 WP_015850381.1 HAD family hydrolase [Desulfovibrio salexigens]\n",
      "HPGHGRRGERGEGSRKPGSPALPQDRHHDRRRRGRGAHPHPAFDLFLPALRKAHFKRLRLH-RPAAAVPRVQRRFRAFHQGRRGIVPVSHGPH\n",
      "HP    R   G+G++K     LP+D+ +              +D F+P L K   + L  H RP A +P V   F A   G++ I  +S+ PH\n",
      "HPVDAYRKFVGDGAKKLAWRVLPEDKQNQED-----------YDQFVPVLLKKFEEELNKHVRPYAGIPEVLADFIA--AGKK-IAILSNKPH\n",
      "\n",
      "gnl|BL_ORD_ID|8354 WP_015850381.1 HAD family hydrolase [Desulfovibrio salexigens]\n",
      "HPGHGRRGERGEGSRKPGSPALPQDRHHDRRRRGRGAHPHPAFDLFLPALRKAHFKRLRLH-RPAAAVPRVQRRFRAFHQGRRGIVPVSHGPH\n",
      "HP    R   G+G++K     LP+D+ +              +D F+P L K   + L  H RP A +P V   F A   G++ I  +S+ PH\n",
      "HPVDAYRKFVGDGAKKLAWRVLPEDKQNQED-----------YDQFVPVLLKKFEEELNKHVRPYAGIPEVLADFIA--AGKK-IAILSNKPH\n",
      "\n"
     ]
    }
   ],
   "source": [
    "for alignment in rec.alignments:\n",
    "    sbjctName=alignment.title\n",
    "    sbjctLength=alignment.length\n",
    "    print(sbjctName)\n",
    "    for hsp in alignment.hsps:\n",
    "        print(hsp.query)\n",
    "        print(hsp.match)\n",
    "        print(hsp.sbjct)\n",
    "    print()"
   ]
  },
  {
   "cell_type": "code",
   "execution_count": 15,
   "metadata": {
    "collapsed": false
   },
   "outputs": [
    {
     "name": "stdout",
     "output_type": "stream",
     "text": [
      "F2|lcl|NC_012796.1_cds_WP_012749586.1_1 [locus_tag=DMR_RS00005] [protein=chromosomal replication initiator protein DnaA] [protein_id=WP_012749586.1] [location=126..1466] [gbkey=CDS]\n",
      "F3|lcl|NC_012796.1_cds_WP_012749586.1_1 [locus_tag=DMR_RS00005] [protein=chromosomal replication initiator protein DnaA] [protein_id=WP_012749586.1] [location=126..1466] [gbkey=CDS]\n",
      "F4|lcl|NC_012796.1_cds_WP_012749586.1_1 [locus_tag=DMR_RS00005] [protein=chromosomal replication initiator protein DnaA] [protein_id=WP_012749586.1] [location=126..1466] [gbkey=CDS]\n",
      "F5|lcl|NC_012796.1_cds_WP_012749586.1_1 [locus_tag=DMR_RS00005] [protein=chromosomal replication initiator protein DnaA] [protein_id=WP_012749586.1] [location=126..1466] [gbkey=CDS]\n",
      "F6|lcl|NC_012796.1_cds_WP_012749586.1_1 [locus_tag=DMR_RS00005] [protein=chromosomal replication initiator protein DnaA] [protein_id=WP_012749586.1] [location=126..1466] [gbkey=CDS]\n",
      "F2|lcl|NC_012796.1_cds_WP_012749587.1_2 [locus_tag=DMR_RS00010] [protein=DNA polymerase III subunit beta] [protein_id=WP_012749587.1] [location=1834..3027] [gbkey=CDS]\n",
      "F3|lcl|NC_012796.1_cds_WP_012749587.1_2 [locus_tag=DMR_RS00010] [protein=DNA polymerase III subunit beta] [protein_id=WP_012749587.1] [location=1834..3027] [gbkey=CDS]\n",
      "F4|lcl|NC_012796.1_cds_WP_012749587.1_2 [locus_tag=DMR_RS00010] [protein=DNA polymerase III subunit beta] [protein_id=WP_012749587.1] [location=1834..3027] [gbkey=CDS]\n",
      "F5|lcl|NC_012796.1_cds_WP_012749587.1_2 [locus_tag=DMR_RS00010] [protein=DNA polymerase III subunit beta] [protein_id=WP_012749587.1] [location=1834..3027] [gbkey=CDS]\n",
      "F6|lcl|NC_012796.1_cds_WP_012749587.1_2 [locus_tag=DMR_RS00010] [protein=DNA polymerase III subunit beta] [protein_id=WP_012749587.1] [location=1834..3027] [gbkey=CDS]\n",
      "F2|lcl|NC_012796.1_cds_WP_012749588.1_3 [locus_tag=DMR_RS00015] [protein=DNA topoisomerase IV subunit B] [protein_id=WP_012749588.1] [location=3024..5438] [gbkey=CDS]\n",
      "F3|lcl|NC_012796.1_cds_WP_012749588.1_3 [locus_tag=DMR_RS00015] [protein=DNA topoisomerase IV subunit B] [protein_id=WP_012749588.1] [location=3024..5438] [gbkey=CDS]\n"
     ]
    }
   ],
   "source": [
    "resultFilepath=\"/data/mitsuki/out/altorf/evolve/result/GCF_000010665.1_ASM1066v1.xml\"\n",
    "blastRecords = NCBIXML.parse(open(resultFilepath))\n",
    "for i,rec in enumerate(blastRecords):\n",
    "    print(rec.query)\n",
    "    if i>=11:\n",
    "        break"
   ]
  },
  {
   "cell_type": "code",
   "execution_count": 11,
   "metadata": {
    "collapsed": false
   },
   "outputs": [],
   "source": [
    "rec=next(blastRecords)"
   ]
  },
  {
   "cell_type": "code",
   "execution_count": 13,
   "metadata": {
    "collapsed": false
   },
   "outputs": [
    {
     "data": {
      "text/plain": [
       "'F4|lcl|NC_012796.1_cds_WP_012749586.1_1 [locus_tag=DMR_RS00005] [protein=chromosomal replication initiator protein DnaA] [protein_id=WP_012749586.1] [location=126..1466] [gbkey=CDS]'"
      ]
     },
     "execution_count": 13,
     "metadata": {},
     "output_type": "execute_result"
    }
   ],
   "source": [
    "rec.query"
   ]
  },
  {
   "cell_type": "code",
   "execution_count": 3,
   "metadata": {
    "collapsed": false
   },
   "outputs": [
    {
     "data": {
      "text/plain": [
       "generator"
      ]
     },
     "execution_count": 3,
     "metadata": {},
     "output_type": "execute_result"
    }
   ],
   "source": [
    "type(blastRecords)"
   ]
  },
  {
   "cell_type": "code",
   "execution_count": 4,
   "metadata": {
    "collapsed": true
   },
   "outputs": [],
   "source": []
  },
  {
   "cell_type": "code",
   "execution_count": 6,
   "metadata": {
    "collapsed": false
   },
   "outputs": [
    {
     "data": {
      "text/plain": [
       "'F2|lcl|NC_012796.1_cds_WP_012749586.1_1 [locus_tag=DMR_RS00005] [protein=chromosomal replication initiator protein DnaA] [protein_id=WP_012749586.1] [location=126..1466] [gbkey=CDS]'"
      ]
     },
     "execution_count": 6,
     "metadata": {},
     "output_type": "execute_result"
    }
   ],
   "source": []
  },
  {
   "cell_type": "code",
   "execution_count": null,
   "metadata": {
    "collapsed": false
   },
   "outputs": [],
   "source": [
    "set(result_df[\"category\"])"
   ]
  },
  {
   "cell_type": "code",
   "execution_count": 6,
   "metadata": {
    "collapsed": false
   },
   "outputs": [
    {
     "data": {
      "text/html": [
       "<div>\n",
       "<table border=\"1\" class=\"dataframe\">\n",
       "  <thead>\n",
       "    <tr style=\"text-align: right;\">\n",
       "      <th></th>\n",
       "      <th>thres</th>\n",
       "      <th>F2</th>\n",
       "      <th>F3</th>\n",
       "      <th>F4</th>\n",
       "      <th>F5</th>\n",
       "      <th>F6</th>\n",
       "      <th>DSF2</th>\n",
       "      <th>DSF3</th>\n",
       "      <th>DSF4</th>\n",
       "      <th>DSF5</th>\n",
       "      <th>DSF6</th>\n",
       "      <th>DTSF2</th>\n",
       "      <th>DTSF3</th>\n",
       "      <th>DTSF4</th>\n",
       "      <th>DTSF5</th>\n",
       "      <th>DTSF6</th>\n",
       "    </tr>\n",
       "  </thead>\n",
       "  <tbody>\n",
       "    <tr>\n",
       "      <th>0</th>\n",
       "      <td>1.0000</td>\n",
       "      <td>1820</td>\n",
       "      <td>1668</td>\n",
       "      <td>2972</td>\n",
       "      <td>880</td>\n",
       "      <td>1452</td>\n",
       "      <td>1344</td>\n",
       "      <td>1276</td>\n",
       "      <td>2212</td>\n",
       "      <td>656</td>\n",
       "      <td>1020</td>\n",
       "      <td>1116</td>\n",
       "      <td>1236</td>\n",
       "      <td>2488</td>\n",
       "      <td>668</td>\n",
       "      <td>1212</td>\n",
       "    </tr>\n",
       "    <tr>\n",
       "      <th>1</th>\n",
       "      <td>0.1000</td>\n",
       "      <td>500</td>\n",
       "      <td>404</td>\n",
       "      <td>660</td>\n",
       "      <td>156</td>\n",
       "      <td>280</td>\n",
       "      <td>268</td>\n",
       "      <td>184</td>\n",
       "      <td>284</td>\n",
       "      <td>108</td>\n",
       "      <td>140</td>\n",
       "      <td>184</td>\n",
       "      <td>176</td>\n",
       "      <td>240</td>\n",
       "      <td>100</td>\n",
       "      <td>188</td>\n",
       "    </tr>\n",
       "    <tr>\n",
       "      <th>2</th>\n",
       "      <td>0.0100</td>\n",
       "      <td>164</td>\n",
       "      <td>192</td>\n",
       "      <td>276</td>\n",
       "      <td>56</td>\n",
       "      <td>120</td>\n",
       "      <td>36</td>\n",
       "      <td>16</td>\n",
       "      <td>36</td>\n",
       "      <td>8</td>\n",
       "      <td>4</td>\n",
       "      <td>24</td>\n",
       "      <td>24</td>\n",
       "      <td>24</td>\n",
       "      <td>20</td>\n",
       "      <td>16</td>\n",
       "    </tr>\n",
       "    <tr>\n",
       "      <th>3</th>\n",
       "      <td>0.0010</td>\n",
       "      <td>88</td>\n",
       "      <td>124</td>\n",
       "      <td>180</td>\n",
       "      <td>24</td>\n",
       "      <td>104</td>\n",
       "      <td>0</td>\n",
       "      <td>4</td>\n",
       "      <td>0</td>\n",
       "      <td>0</td>\n",
       "      <td>0</td>\n",
       "      <td>0</td>\n",
       "      <td>4</td>\n",
       "      <td>8</td>\n",
       "      <td>4</td>\n",
       "      <td>0</td>\n",
       "    </tr>\n",
       "    <tr>\n",
       "      <th>4</th>\n",
       "      <td>0.0001</td>\n",
       "      <td>72</td>\n",
       "      <td>100</td>\n",
       "      <td>164</td>\n",
       "      <td>12</td>\n",
       "      <td>100</td>\n",
       "      <td>0</td>\n",
       "      <td>0</td>\n",
       "      <td>0</td>\n",
       "      <td>0</td>\n",
       "      <td>0</td>\n",
       "      <td>0</td>\n",
       "      <td>0</td>\n",
       "      <td>0</td>\n",
       "      <td>0</td>\n",
       "      <td>0</td>\n",
       "    </tr>\n",
       "  </tbody>\n",
       "</table>\n",
       "</div>"
      ],
      "text/plain": [
       "    thres    F2    F3    F4   F5    F6  DSF2  DSF3  DSF4  DSF5  DSF6  DTSF2  \\\n",
       "0  1.0000  1820  1668  2972  880  1452  1344  1276  2212   656  1020   1116   \n",
       "1  0.1000   500   404   660  156   280   268   184   284   108   140    184   \n",
       "2  0.0100   164   192   276   56   120    36    16    36     8     4     24   \n",
       "3  0.0010    88   124   180   24   104     0     4     0     0     0      0   \n",
       "4  0.0001    72   100   164   12   100     0     0     0     0     0      0   \n",
       "\n",
       "   DTSF3  DTSF4  DTSF5  DTSF6  \n",
       "0   1236   2488    668   1212  \n",
       "1    176    240    100    188  \n",
       "2     24     24     20     16  \n",
       "3      4      8      4      0  \n",
       "4      0      0      0      0  "
      ]
     },
     "execution_count": 6,
     "metadata": {},
     "output_type": "execute_result"
    }
   ],
   "source": [
    "count_df=categorize_result(result_df)\n",
    "count_df.head()"
   ]
  },
  {
   "cell_type": "code",
   "execution_count": 1,
   "metadata": {
    "collapsed": false
   },
   "outputs": [
    {
     "ename": "NameError",
     "evalue": "name 'pd' is not defined",
     "output_type": "error",
     "traceback": [
      "\u001b[0;31m---------------------------------------------------------------------------\u001b[0m",
      "\u001b[0;31mNameError\u001b[0m                                 Traceback (most recent call last)",
      "\u001b[0;32m<ipython-input-1-55fff477b720>\u001b[0m in \u001b[0;36m<module>\u001b[0;34m()\u001b[0m\n\u001b[1;32m      1\u001b[0m \u001b[0mtxtFilepath\u001b[0m\u001b[0;34m=\u001b[0m\u001b[0;34m\"../../createdatabase/out/genus_872.txt\"\u001b[0m\u001b[0;34m\u001b[0m\u001b[0m\n\u001b[0;32m----> 2\u001b[0;31m \u001b[0mcatalog_df\u001b[0m\u001b[0;34m=\u001b[0m\u001b[0mpd\u001b[0m\u001b[0;34m.\u001b[0m\u001b[0mread_csv\u001b[0m\u001b[0;34m(\u001b[0m\u001b[0mtxtFilepath\u001b[0m\u001b[0;34m)\u001b[0m\u001b[0;34m\u001b[0m\u001b[0m\n\u001b[0m\u001b[1;32m      3\u001b[0m \u001b[0mcatalog_df\u001b[0m\u001b[0;34m.\u001b[0m\u001b[0mhead\u001b[0m\u001b[0;34m(\u001b[0m\u001b[0;34m)\u001b[0m\u001b[0;34m\u001b[0m\u001b[0m\n",
      "\u001b[0;31mNameError\u001b[0m: name 'pd' is not defined"
     ]
    }
   ],
   "source": [
    "txtFilepath=\"../../createdatabase/out/genus_872.txt\"\n",
    "catalog_df=pd.read_csv(txtFilepath)\n",
    "catalog_df.head()"
   ]
  },
  {
   "cell_type": "code",
   "execution_count": null,
   "metadata": {
    "collapsed": false,
    "scrolled": false
   },
   "outputs": [],
   "source": [
    "for basename in catalog_df[\"ftp_basename\"]:\n",
    "    print()\n",
    "    resultFilepath=\"/data/mitsuki/out/altorf/evolve/result/{}.xml\".format(basename)\n",
    "    print()\n",
    "    print(\"PROCESSING {}\".format(resultFilepath))\n",
    "    result_df=xml2df(resultFilepath)\n",
    "    count_df=categorize_result(result_df)\n",
    "    print(count_df)"
   ]
  },
  {
   "cell_type": "code",
   "execution_count": null,
   "metadata": {
    "collapsed": true
   },
   "outputs": [],
   "source": []
  }
 ],
 "metadata": {
  "anaconda-cloud": {},
  "kernelspec": {
   "display_name": "Python 3",
   "language": "python",
   "name": "python3"
  },
  "language_info": {
   "codemirror_mode": {
    "name": "ipython",
    "version": 3
   },
   "file_extension": ".py",
   "mimetype": "text/x-python",
   "name": "python",
   "nbconvert_exporter": "python",
   "pygments_lexer": "ipython3",
   "version": "3.6.0"
  }
 },
 "nbformat": 4,
 "nbformat_minor": 1
}
