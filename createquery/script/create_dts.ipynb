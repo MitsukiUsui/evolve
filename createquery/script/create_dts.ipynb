{
 "cells": [
  {
   "cell_type": "code",
   "execution_count": 1,
   "metadata": {
    "collapsed": true
   },
   "outputs": [],
   "source": [
    "from collections import Counter\n",
    "import sys\n",
    "import numpy as np\n",
    "from scipy import stats\n",
    "import Bio\n",
    "from Bio import SeqIO\n",
    "import pandas as pd\n",
    "import random"
   ]
  },
  {
   "cell_type": "code",
   "execution_count": 2,
   "metadata": {
    "collapsed": false
   },
   "outputs": [],
   "source": [
    "class AaBias():\n",
    "    \"\"\" remember amino acid bias\n",
    "    \n",
    "    Attributes:\n",
    "        self.aa_lst:      list of 1 char representation of 20 Amino Acids\n",
    "        self.aaCount_dct: dictionary of amino acid (+ X) count\n",
    "        self.aaFreq_arr:  numpy array of culmitive frequency of each Amino Acids\n",
    "    \"\"\"\n",
    "    \n",
    "    def __init__(self):\n",
    "        self.aa_lst=[\"A\",\"R\",\"N\",\"D\",\"C\",\"E\",\"Q\",\"G\",\"H\",\"I\",\"L\",\"K\",\"M\",\"F\",\"P\",\"S\",\"T\",\"W\",\"Y\",\"V\"]\n",
    "        self.all_lst=self.aa_lst+[\"X\"]\n",
    "        self.aaCount_dct={}\n",
    "        for aa in self.all_lst:\n",
    "            self.aaCount_dct[aa]=0\n",
    "        self.aaFreq_arr=np.zeros(len(self.all_lst))\n",
    "    \n",
    "    def update_count(self,aaSeq):\n",
    "        \"\"\"get amino acid sequence and update count dictionary\"\"\"\n",
    "        \n",
    "        counter=Counter(aaSeq)\n",
    "        for k,v in counter.items():\n",
    "            if k in self.aa_lst:\n",
    "                self.aaCount_dct[k]+=v\n",
    "            elif k in [\"X\"]:\n",
    "                self.aaCount_dct[k]+=v\n",
    "            else:\n",
    "                self.aaCount_dct[\"X\"]+=v\n",
    "                #sys.stderr(\"CAUGHT unexpected amino acid: {}\".format((k)))\n",
    "                #sys.exit(1)\n",
    "                \n",
    "    def calc_freq(self):\n",
    "        \"\"\"calculate frequency based on count dictionary\"\"\"\n",
    "        \n",
    "        totalCount=0\n",
    "        for _,v in self.aaCount_dct.items():\n",
    "            totalCount+=v\n",
    "        \n",
    "        culmFreq=0.\n",
    "        for i,aa in enumerate(self.all_lst):\n",
    "            culmFreq+=self.aaCount_dct[aa]/totalCount\n",
    "            self.aaFreq_arr[i]=culmFreq\n",
    "        self.aaFreq_arr[-1]=1 #correct rounding error\n",
    "             \n",
    "    def generate_random(self,seqLen):\n",
    "        \"\"\"generate random sequence of length seqLen, according to frequency\"\"\"\n",
    "        \n",
    "        retVal=\"\"\n",
    "        rand_arr=np.random.rand(seqLen)\n",
    "        for rand in rand_arr:\n",
    "            for i,culmFreq in enumerate(self.aaFreq_arr):\n",
    "                if culmFreq>=rand:\n",
    "                    break\n",
    "            retVal+=self.all_lst[i]\n",
    "            \n",
    "        return retVal\n",
    "        \n",
    "        \n",
    "    def kl(self, other):\n",
    "        \"\"\"calculate kullback leibler distance between two AaBias instance\"\"\"\n",
    "        \n",
    "        assert(self.aa_lst==other.aa_lst)\n",
    "        \n",
    "        #convert count dictionary to numpy array\n",
    "        a1=np.zeros(len(self.aa_lst))\n",
    "        a2=np.zeros(len(other.aa_lst))\n",
    "        for i,aa in enumerate(self.aa_lst):\n",
    "            a1[i]=self.aaCount_dct[aa]+1\n",
    "            a2[i]=other.aaCount_dct[aa]+1#to avoid 0 division\n",
    "        return stats.entropy(a1,a2)\n",
    "                \n",
    "    def _show(self):\n",
    "        \"\"\"[DEBUG] show \"\"\"\n",
    "        for i,aa in enumerate(self.all_lst):\n",
    "            print(aa, self.aaCount_dct[aa], self.aaFreq_arr[i])"
   ]
  },
  {
   "cell_type": "code",
   "execution_count": 3,
   "metadata": {
    "collapsed": true
   },
   "outputs": [],
   "source": [
    "def is_typical(seq_record):\n",
    "    if len(seq_record)>=6 and len(seq_record)%3==0:\n",
    "        return True\n",
    "    else:\n",
    "        return False"
   ]
  },
  {
   "cell_type": "code",
   "execution_count": 10,
   "metadata": {
    "collapsed": false
   },
   "outputs": [],
   "source": [
    "ab_lst=[AaBias() for _ in range(6)]\n",
    "\n",
    "filepath=\"/data/mitsuki/data/refseq/cds_from_genomic/GCF_000010665.1_ASM1066v1_cds_from_genomic.fna\"\n",
    "for seq_record in SeqIO.parse(filepath, \"fasta\"):\n",
    "    if is_typical(seq_record):\n",
    "        \n",
    "        #Frame Number, (start, end), is reverse complement \n",
    "        target=[(1,(0,len(seq_record)-3),False),# -3 to drop stop codon\n",
    "                (2,(1,len(seq_record)-2),False),\n",
    "                (3,(2,len(seq_record)-1),False),\n",
    "                (4,(0,len(seq_record)),  True),\n",
    "                (5,(1,len(seq_record)-2),True),\n",
    "                (6,(2,len(seq_record)-1),True)]\n",
    "\n",
    "        #shuflle\n",
    "        #seq_record.seq=Bio.Seq.Seq(''.join(random.sample(str(seq_record.seq),len(seq_record))))\n",
    "        \n",
    "        for frameNum, (start,end), revComp in target:\n",
    "            seq=seq_record.seq[start:end]\n",
    "            if revComp:\n",
    "                seq=seq.reverse_complement()\n",
    "            aaSeq=str(seq.translate(table=11)).replace('*','X')\n",
    "            ab_lst[frameNum-1].update_count(aaSeq)\n",
    "            \n",
    "for i in range(6):\n",
    "    ab_lst[i].calc_freq()"
   ]
  },
  {
   "cell_type": "code",
   "execution_count": 13,
   "metadata": {
    "collapsed": false
   },
   "outputs": [
    {
     "data": {
      "text/plain": [
       "'GAKGAGPTRKIPNSAACMWTRRCASSIWKGCPTITPRGIRAQVYIXTTRRILLRSPRSRSITXAXPPVPGWSPDPVSPGGSPTWCPWTWNGTSPITPAEP'"
      ]
     },
     "execution_count": 13,
     "metadata": {},
     "output_type": "execute_result"
    }
   ],
   "source": [
    "ab_lst[1].generate_random(100)"
   ]
  },
  {
   "cell_type": "code",
   "execution_count": null,
   "metadata": {
    "collapsed": false
   },
   "outputs": [],
   "source": []
  },
  {
   "cell_type": "code",
   "execution_count": null,
   "metadata": {
    "collapsed": true
   },
   "outputs": [],
   "source": [
    "import sys\n",
    "import pandas as pd\n",
    "import random\n",
    "from Bio import SeqIO"
   ]
  }
 ],
 "metadata": {
  "kernelspec": {
   "display_name": "Python 3",
   "language": "python",
   "name": "python3"
  },
  "language_info": {
   "codemirror_mode": {
    "name": "ipython",
    "version": 3
   },
   "file_extension": ".py",
   "mimetype": "text/x-python",
   "name": "python",
   "nbconvert_exporter": "python",
   "pygments_lexer": "ipython3",
   "version": "3.6.0"
  }
 },
 "nbformat": 4,
 "nbformat_minor": 2
}
